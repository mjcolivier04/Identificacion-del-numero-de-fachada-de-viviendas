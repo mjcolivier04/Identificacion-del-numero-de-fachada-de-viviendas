{
  "cells": [
    {
      "cell_type": "markdown",
      "metadata": {
        "id": "FmvmgFIcxSEQ"
      },
      "source": [
        "# <center> Proyecto Final\n",
        "\n",
        "* **Manuel Jesús Casillas Olivier**\n",
        "\n",
        "### <center>Temas Selectos de Física Computacional III\n",
        "#### <center> 10/12/2023\n",
        "#### <center> Semestre 2024-1\n"
      ]
    },
    {
      "cell_type": "markdown",
      "metadata": {
        "id": "pTZ_bXss1thc"
      },
      "source": [
        "____________________"
      ]
    },
    {
      "cell_type": "code",
      "execution_count": 86,
      "metadata": {
        "id": "XAh0fpvV4zvI"
      },
      "outputs": [],
      "source": [
        "# Cargamos las librerías necesarias\n",
        "import tensorflow as tf  # Importamos TensorFlow para construir y entrenar modelos de aprendizaje profundo\n",
        "import tensorflow_datasets as tfds  # Importamos TensorFlow Datasets para acceder a conjuntos de datos predefinidos\n",
        "from tensorflow import keras\n",
        "from keras.callbacks import TensorBoard  # Importamos TensorBoard para realizar seguimiento y visualización del rendimiento del modelo\n",
        "from keras.models import Sequential\n",
        "import pandas as pd  # Importamos Pandas para la manipulación y análisis de datos en formato tabular\n",
        "import numpy as np  # Importamos NumPy para realizar operaciones numéricas eficientes\n",
        "import matplotlib.pyplot as plt  # Importamos Matplotlib para la creación de visualizaciones y gráficos\n",
        "import cv2  # Importamos OpenCV para operaciones de visión por computadora, incluyendo procesamiento de imágenes"
      ]
    },
    {
      "cell_type": "code",
      "execution_count": null,
      "metadata": {
        "colab": {
          "base_uri": "https://localhost:8080/",
          "height": 136,
          "referenced_widgets": [
            "1fe6948343a74d63ab56e11b6cc63ea7",
            "6b783d88ea5b415b994ce02f396ca93c",
            "239bcb1161144e17b7447cd8afbe7380",
            "600e899fb35e48adb1aeb10c60f33a84",
            "12991f2d82884cb780d04e1ef07af9b3",
            "3338ae09aae14f528edd32c140449016",
            "f927a044003e439dab02f5c64963b230",
            "1204d63f4a794bbcb7f24d13714b6a0a",
            "51e93ac2400142658d842846f2b0145e",
            "43552afec13c4a8a888693c6dbfe69a6",
            "6220db00c02a42a1b1135ed76acb57a1",
            "77cd532fb2124004b48e4a9db13232a8",
            "9c6f90abfdd4477c9d9faddc67a2ec64",
            "a171c65628be47fdb1ccb8fdd45457cc",
            "ef39fea841514d3cad1aa9b146492636",
            "50b16b1dd5404416aef52ac028a79352",
            "2161515aca444d318423d2d4d1221238",
            "099d5ed80e5e4917a9f4ec8840194e6b",
            "54874e14f9ff4bec8497d0754db660f9",
            "52f36aa9590240f2a901aa14765d1db4",
            "f8c6f63834334fa183d330f562816a06",
            "3427952627d14f169fd4b5b722d12613",
            "488e1bb72e6e46df96be91a77598bf3a",
            "99bfd8dbebc34d80ac2c2e5c7ba846f9",
            "4fa1815ac4c3441bb7d2e6bcbbdfa0be",
            "a61f49b7489843749a12d6778aa55176",
            "fddd68964b2f4d7f8dc7651fab56de5d",
            "9b390488ab9c482cbdf515f21de0e570",
            "1f5fb1829a3c48b4aabec7914883e4ff",
            "6ce1d60d4466448bb153e7b2330ff448",
            "3a0c84fdcbb94ea59e15ac7599adf7aa",
            "3fec909a0dc7463396356ac56c012016",
            "81a94aae937440c089021cb7bf0e7306",
            "739da404597e44859584c9bf16541a2e",
            "67cf06cce00f40659bd413d01f361825",
            "7454e9641a96440fb02cd0c10d62a369",
            "4c77b44007964f1d9a34468e6f02adc1",
            "f07965ebe219455f816c40c3e132c9bf",
            "a5ec4746d4ad438bb9a59d61aef23615",
            "6faaeca74229495c88e1405346f3319a",
            "a31d2a17789c46fd842dd501fd489360",
            "8021ff912d954d4e8bc267f5d987f2a2",
            "eeb6a565179c4e31970aa1073cdd944c",
            "3e80f6fe5d8d41b79a4e3acfb505beff",
            "81637723504b4a89a1f3de3b320ba268",
            "ccf126d4612f4f85888b4c0b6e4a0993",
            "55575a7e0bb3460d95512f58d1b4115e",
            "e39582e8b93c43bbb0009e6b33a88dad",
            "85d5d21f24b1498f83cc064e735ef772",
            "698ecdd35e524d358ad11e0a95f2a9ea",
            "f08cbcc8e0614c8b98f8cda6186b479b",
            "76a2be76c1f64d4094c4aaf5bd786b1f",
            "4678a8a8fc434d189b352fda9801be9e",
            "68d493d07b75448d9c0b68dac6cb837e",
            "b2ebe835ad804f799179d376fa20668e",
            "37f7f26327d6462f9ef3c14de09dc0fe",
            "1824296e63374944be78adfb49385054",
            "f03887d9cbbb4f92a4c1b458c0598f46",
            "7dd2f44137d44fe798c9669d37033748",
            "69c5ca97111d4aa9acaa671d44a63624",
            "2e9c9f3b0f3b470598bc15282e88b695",
            "6fd0441a0db8417c86bd33078af8222f",
            "fced356e5019462f87288ea6827fdde5",
            "577efab05fde4547b59e4d2c0696a454",
            "caac872db27643898ac7c7d98faa26ee",
            "3bb69d6a049f4e0fbc956529f0bad525",
            "58c4701905c44952897c260015fa1509",
            "1b18a364508f478692c46803391b27b1",
            "39a21969c7284b62a76ba53143c89e7d",
            "9da2fa0a70624f049040c35d0348b9bc",
            "928096bdfe7043fe8bb0ff2b681c402d",
            "e2416bf6826a47469a17dabc0e968487",
            "01f69d6491254672890880be739a3251",
            "a62a2ed729454051ae67cf258567960b",
            "0c6fad4aeaea4521b9566d213d9dbf33",
            "b93e79db1761471986b14e1c8b843471",
            "4c9896fb64344ddbb4d5f5cc2e69daca",
            "5d38929b881b440793cf04e32a2d4066",
            "a2dff39819de492b912fc6ef258f5a15",
            "69d9047e09f54d61ba9d9ac78cf27fce",
            "cdd9ca7c55fe42d9929d942b17752075",
            "2feaced150f94e3db2d528b81292238b",
            "dc1bd4e50d73442aa4355aba9c3580e8",
            "632a1b03c47247448f3794484237e679",
            "cb97a7a497774652926350f37cf11c7e",
            "352088445b6b43b9af4ca9c6cc4383c5",
            "b27328308ecb41379ade5f445f122542",
            "5849a8269be943fcaf77b25abcfaabbb",
            "bc20eeef176b45cf9747ee35f73b4a84",
            "6f166fa52a2d4b81b89f6d89eeeb2e2f",
            "0b2502a164b94670a42f442769d435a9",
            "51cc61034be34863a218930dc37e880f",
            "c169a90f6abe4602a462578a189c5f4b",
            "d341fa3ca44746ed81d539afd5e0a55d",
            "450d47b1ccd444b89ec9624d1a1785b6",
            "06f6fd20f53e46849175991f12563759",
            "8e85d6eaf2ed4fbc80488ce1a7f1041c",
            "78ec81168c834bf498fa1a042c0b0c34",
            "d83cf4acf1a34e1d8ce2e233a768b85a"
          ]
        },
        "id": "ReuM4wYMP7tX",
        "outputId": "c26cebec-abb3-4d62-da27-9c1b869671c2"
      },
      "outputs": [
        {
          "name": "stdout",
          "output_type": "stream",
          "text": [
            "Downloading and preparing dataset 1.47 GiB (download: 1.47 GiB, generated: Unknown size, total: 1.47 GiB) to /root/tensorflow_datasets/svhn_cropped/3.0.0...\n"
          ]
        },
        {
          "data": {
            "application/vnd.jupyter.widget-view+json": {
              "model_id": "1fe6948343a74d63ab56e11b6cc63ea7",
              "version_major": 2,
              "version_minor": 0
            },
            "text/plain": [
              "Dl Completed...: 0 url [00:00, ? url/s]"
            ]
          },
          "metadata": {},
          "output_type": "display_data"
        },
        {
          "data": {
            "application/vnd.jupyter.widget-view+json": {
              "model_id": "77cd532fb2124004b48e4a9db13232a8",
              "version_major": 2,
              "version_minor": 0
            },
            "text/plain": [
              "Dl Size...: 0 MiB [00:00, ? MiB/s]"
            ]
          },
          "metadata": {},
          "output_type": "display_data"
        },
        {
          "data": {
            "application/vnd.jupyter.widget-view+json": {
              "model_id": "488e1bb72e6e46df96be91a77598bf3a",
              "version_major": 2,
              "version_minor": 0
            },
            "text/plain": [
              "Generating splits...:   0%|          | 0/3 [00:00<?, ? splits/s]"
            ]
          },
          "metadata": {},
          "output_type": "display_data"
        },
        {
          "data": {
            "application/vnd.jupyter.widget-view+json": {
              "model_id": "739da404597e44859584c9bf16541a2e",
              "version_major": 2,
              "version_minor": 0
            },
            "text/plain": [
              "Generating train examples...:   0%|          | 0/73257 [00:00<?, ? examples/s]"
            ]
          },
          "metadata": {},
          "output_type": "display_data"
        },
        {
          "data": {
            "application/vnd.jupyter.widget-view+json": {
              "model_id": "81637723504b4a89a1f3de3b320ba268",
              "version_major": 2,
              "version_minor": 0
            },
            "text/plain": [
              "Shuffling /root/tensorflow_datasets/svhn_cropped/3.0.0.incomplete2YGHJT/svhn_cropped-train.tfrecord*...:   0%|…"
            ]
          },
          "metadata": {},
          "output_type": "display_data"
        },
        {
          "data": {
            "application/vnd.jupyter.widget-view+json": {
              "model_id": "37f7f26327d6462f9ef3c14de09dc0fe",
              "version_major": 2,
              "version_minor": 0
            },
            "text/plain": [
              "Generating test examples...:   0%|          | 0/26032 [00:00<?, ? examples/s]"
            ]
          },
          "metadata": {},
          "output_type": "display_data"
        },
        {
          "data": {
            "application/vnd.jupyter.widget-view+json": {
              "model_id": "58c4701905c44952897c260015fa1509",
              "version_major": 2,
              "version_minor": 0
            },
            "text/plain": [
              "Shuffling /root/tensorflow_datasets/svhn_cropped/3.0.0.incomplete2YGHJT/svhn_cropped-test.tfrecord*...:   0%| …"
            ]
          },
          "metadata": {},
          "output_type": "display_data"
        },
        {
          "data": {
            "application/vnd.jupyter.widget-view+json": {
              "model_id": "5d38929b881b440793cf04e32a2d4066",
              "version_major": 2,
              "version_minor": 0
            },
            "text/plain": [
              "Generating extra examples...:   0%|          | 0/531131 [00:00<?, ? examples/s]"
            ]
          },
          "metadata": {},
          "output_type": "display_data"
        },
        {
          "data": {
            "application/vnd.jupyter.widget-view+json": {
              "model_id": "bc20eeef176b45cf9747ee35f73b4a84",
              "version_major": 2,
              "version_minor": 0
            },
            "text/plain": [
              "Shuffling /root/tensorflow_datasets/svhn_cropped/3.0.0.incomplete2YGHJT/svhn_cropped-extra.tfrecord*...:   0%|…"
            ]
          },
          "metadata": {},
          "output_type": "display_data"
        },
        {
          "name": "stdout",
          "output_type": "stream",
          "text": [
            "Dataset svhn_cropped downloaded and prepared to /root/tensorflow_datasets/svhn_cropped/3.0.0. Subsequent calls will reuse this data.\n"
          ]
        }
      ],
      "source": [
        "#Descargamos los datos de SVHN(Street View House Numbers), Standford atraves tensorflow\n",
        "datos, metadatos = tfds.load('svhn_cropped',as_supervised=True, with_info=True)"
      ]
    },
    {
      "cell_type": "code",
      "execution_count": null,
      "metadata": {
        "colab": {
          "base_uri": "https://localhost:8080/"
        },
        "id": "8tLGAn7ASm-B",
        "outputId": "6ed5a7cf-2da0-488e-91f6-58213d3b2fd6"
      },
      "outputs": [
        {
          "data": {
            "text/plain": [
              "tfds.core.DatasetInfo(\n",
              "    name='svhn_cropped',\n",
              "    full_name='svhn_cropped/3.0.0',\n",
              "    description=\"\"\"\n",
              "    The Street View House Numbers (SVHN) Dataset is an image digit recognition\n",
              "    dataset of over 600,000 digit images coming from real world data. Images are\n",
              "    cropped to 32x32.\n",
              "    \"\"\",\n",
              "    homepage='http://ufldl.stanford.edu/housenumbers/',\n",
              "    data_dir=PosixGPath('/tmp/tmpc79dvh_jtfds'),\n",
              "    file_format=tfrecord,\n",
              "    download_size=1.47 GiB,\n",
              "    dataset_size=1.07 GiB,\n",
              "    features=FeaturesDict({\n",
              "        'image': Image(shape=(32, 32, 3), dtype=uint8),\n",
              "        'label': ClassLabel(shape=(), dtype=int64, num_classes=10),\n",
              "    }),\n",
              "    supervised_keys=('image', 'label'),\n",
              "    disable_shuffling=False,\n",
              "    splits={\n",
              "        'extra': <SplitInfo num_examples=531131, num_shards=8>,\n",
              "        'test': <SplitInfo num_examples=26032, num_shards=1>,\n",
              "        'train': <SplitInfo num_examples=73257, num_shards=1>,\n",
              "    },\n",
              "    citation=\"\"\"\"\"\"Street View House Numbers (SVHN) Dataset, cropped version.\"\"\"\n",
              "    \n",
              "    @article{Netzer2011,\n",
              "    author = {Netzer, Yuval and Wang, Tao and Coates, Adam and Bissacco, Alessandro and Wu, Bo and Ng, Andrew Y},\n",
              "    booktitle = {Advances in Neural Information Processing Systems ({NIPS})},\n",
              "    title = {Reading Digits in Natural Images with Unsupervised Feature Learning},\n",
              "    year = {2011}\n",
              "    }\"\"\",\n",
              ")"
            ]
          },
          "execution_count": 5,
          "metadata": {},
          "output_type": "execute_result"
        }
      ],
      "source": [
        "#Verificamos que información se descargo, principalmente el tamaño de la base de datos\n",
        "metadatos"
      ]
    },
    {
      "cell_type": "markdown",
      "metadata": {
        "id": "dIfOM0Hn45gC"
      },
      "source": [
        "\n",
        "##Primera visualizacion de los datos\n",
        "Visualizamos algunas de las imagenes que están incluídas en el dataset, mostraremos imagenes con su correspondiente etiqueta."
      ]
    },
    {
      "cell_type": "code",
      "execution_count": null,
      "metadata": {
        "colab": {
          "base_uri": "https://localhost:8080/",
          "height": 1000
        },
        "id": "TRmFz7onYZEV",
        "outputId": "af15c656-4ef2-4eb6-89f3-c0915d9e9417"
      },
      "outputs": [
        {
          "data": {
            "image/png": "[encoded data removed]",
            "text/plain": [
              "<Figure size 900x900 with 9 Axes>"
            ]
          },
          "metadata": {},
          "output_type": "display_data"
        },
        {
          "data": {
            "image/png": "[encoded data removed]",
            "text/plain": [
              "<Figure size 900x900 with 9 Axes>"
            ]
          },
          "execution_count": 6,
          "metadata": {},
          "output_type": "execute_result"
        }
      ],
      "source": [
        "# Convertimos los primeros 5 ejemplos del conjunto de entrenamiento a un DataFrame de Pandas para visualizar la información\n",
        "df_train = tfds.as_dataframe(datos['train'].take(5), metadatos)\n",
        "# Alternativamente, se puede usar tfds.show_examples para visualizar ejemplos directamente\n",
        "tfds.show_examples(datos['train'], metadatos)"
      ]
    },
    {
      "cell_type": "markdown",
      "metadata": {
        "id": "vbRGD-oE5O8Q"
      },
      "source": [
        "Una vez visualizados algunos datos, ajustamos su escala y modificamos a un tono de blanco y negro para una mejor visualizacion."
      ]
    },
    {
      "cell_type": "code",
      "execution_count": null,
      "metadata": {
        "colab": {
          "base_uri": "https://localhost:8080/",
          "height": 488
        },
        "id": "K518055-d9EL",
        "outputId": "8c56150f-dfe8-4c18-b4e0-6bd6088ee83e"
      },
      "outputs": [
        {
          "data": {
            "image/png": "[encoded data removed]",
            "text/plain": [
              "<Figure size 1000x1000 with 15 Axes>"
            ]
          },
          "metadata": {},
          "output_type": "display_data"
        }
      ],
      "source": [
        "#Configuracion de la base de datos\n",
        "# Configuramos el tamaño de la figura\n",
        "plt.figure(figsize=(10, 10))\n",
        "\n",
        "# Definimos el tamaño deseado para las imágenes\n",
        "TAMANO_IMG = 32\n",
        "\n",
        "# Iteramos sobre los primeros 15 ejemplos del conjunto de entrenamiento\n",
        "for i, (imagen, etiqueta) in enumerate(datos['train'].take(15)):\n",
        "    # Redimensionamos la imagen al tamaño especificado\n",
        "    imagen = cv2.resize(imagen.numpy(), (TAMANO_IMG, TAMANO_IMG))\n",
        "    # Convertimos la imagen a escala de grises\n",
        "    imagen = cv2.cvtColor(imagen, cv2.COLOR_BGR2GRAY)\n",
        "\n",
        "    # Configuramos la ubicación en la cuadrícula de subgráficos\n",
        "    plt.subplot(5, 5, i+1)\n",
        "\n",
        "    # Eliminamos los ejes x e y\n",
        "    plt.xticks([])\n",
        "    plt.yticks([])\n",
        "\n",
        "    # Mostramos la imagen en escala de grises\n",
        "    plt.imshow(imagen, cmap='gray')\n",
        "\n",
        "# Mostramos la figura con las imágenes modificadas\n",
        "plt.show()"
      ]
    },
    {
      "cell_type": "markdown",
      "metadata": {
        "id": "H38QDsrQcaOu"
      },
      "source": [
        "##Modificaciones de las imagenes\n",
        "\n",
        "Entrenamiento y validacion."
      ]
    },
    {
      "cell_type": "code",
      "execution_count": null,
      "metadata": {
        "id": "0gqCwC0bceXl"
      },
      "outputs": [],
      "source": [
        "## Entrenamiento\n",
        "\n",
        "datos_entrenamiento = []  # Lista para el entrenamiento\n",
        "\n",
        "# Iteramos sobre todos los datos del conjunto de entrenamiento\n",
        "for i, (imagen, etiqueta) in enumerate(datos['train']):\n",
        "    # Redimensionamos la imagen a un arreglo de NumPy con el tamaño especificado\n",
        "    imagen = cv2.resize(imagen.numpy(), (TAMANO_IMG, TAMANO_IMG))\n",
        "    # Convertimos la imagen a escala de grises\n",
        "    imagen = cv2.cvtColor(imagen, cv2.COLOR_BGR2GRAY)\n",
        "    # Añadimos la imagen y su etiqueta a la lista de datos de entrenamiento\n",
        "    datos_entrenamiento.append([imagen, etiqueta])\n"
      ]
    },
    {
      "cell_type": "code",
      "execution_count": null,
      "metadata": {
        "colab": {
          "base_uri": "https://localhost:8080/"
        },
        "id": "amqUZG1Ccs86",
        "outputId": "e7ab91c8-226d-452a-fe84-03333e5d01e2"
      },
      "outputs": [
        {
          "name": "stdout",
          "output_type": "stream",
          "text": [
            "Cantidad de datos en la variable datos_entrenamiento: 73257\n"
          ]
        }
      ],
      "source": [
        "# Verificar la cantidad de datos en la variable datos_entrenamiento\n",
        "cantidad_datos_entrenamiento = len(datos_entrenamiento)\n",
        "print(\"Cantidad de datos en la variable datos_entrenamiento:\", cantidad_datos_entrenamiento)"
      ]
    },
    {
      "cell_type": "code",
      "execution_count": null,
      "metadata": {
        "colab": {
          "base_uri": "https://localhost:8080/"
        },
        "id": "5YYpEfhIc1ZZ",
        "outputId": "a83abfa2-7636-494e-b42c-6fb6c1079e6b"
      },
      "outputs": [
        {
          "data": {
            "text/plain": [
              "[array([[136, 137, 138, ...,  19,  20,  20],\n",
              "        [137, 137, 138, ...,  20,  20,  20],\n",
              "        [138, 137, 137, ...,  20,  21,  20],\n",
              "        ...,\n",
              "        [ 91,  78,  71, ...,  94,  68,  44],\n",
              "        [ 81,  71,  68, ...,  98,  73,  47],\n",
              "        [ 73,  67,  68, ..., 104,  78,  51]], dtype=uint8),\n",
              " <tf.Tensor: shape=(), dtype=int64, numpy=4>]"
            ]
          },
          "execution_count": 10,
          "metadata": {},
          "output_type": "execute_result"
        }
      ],
      "source": [
        "datos_entrenamiento[0] #La imagen es un arreglo que va de 0-255"
      ]
    },
    {
      "cell_type": "code",
      "execution_count": null,
      "metadata": {
        "id": "zXuf9y22c9mT"
      },
      "outputs": [],
      "source": [
        "#Preparar mis variables X (entradas) y y (etiquetas) separadas\n",
        "\n",
        "X = [] #imagenes de entrada (pixeles)\n",
        "y = [] #etiquetas (números de 0-9)\n",
        "\n",
        "for imagen, etiqueta in datos_entrenamiento:\n",
        "  X.append(imagen)\n",
        "  y.append(etiqueta)"
      ]
    },
    {
      "cell_type": "code",
      "execution_count": null,
      "metadata": {
        "colab": {
          "base_uri": "https://localhost:8080/"
        },
        "id": "mBMWXlMOc-sN",
        "outputId": "aa2ac8d3-ca31-4c3a-e2ad-4c183576ca8e"
      },
      "outputs": [
        {
          "data": {
            "text/plain": [
              "(73257, 32, 32)"
            ]
          },
          "execution_count": 12,
          "metadata": {},
          "output_type": "execute_result"
        }
      ],
      "source": [
        "#Normalizar\n",
        "X = np.array(X).astype(float) / 255\n",
        "#Tamaño de la variable X\n",
        "X.shape"
      ]
    },
    {
      "cell_type": "code",
      "execution_count": null,
      "metadata": {
        "id": "xWdLhDtLdJfq"
      },
      "outputs": [],
      "source": [
        "#Convertir etiquetas en arreglo simple\n",
        "y = np.array(y)"
      ]
    },
    {
      "cell_type": "code",
      "execution_count": null,
      "metadata": {
        "id": "5aqwNanrdTom"
      },
      "outputs": [],
      "source": [
        "##  Validacion\n",
        "\n",
        "datos_validacion = [] #Lista para entrenar\n",
        "for i, (imagen, etiqueta) in enumerate(datos['test']): #Todos los datos\n",
        "  imagen = cv2.resize(imagen.numpy(), (TAMANO_IMG, TAMANO_IMG)) #Cambio a un arreglo de numpy\n",
        "  imagen = cv2.cvtColor(imagen, cv2.COLOR_BGR2GRAY) #Cambio a blanco y negro\n",
        "  datos_validacion.append([imagen, etiqueta])"
      ]
    },
    {
      "cell_type": "code",
      "execution_count": null,
      "metadata": {
        "colab": {
          "base_uri": "https://localhost:8080/"
        },
        "id": "LO3q0Tjpdg11",
        "outputId": "93dd61ae-a24a-47b6-ed7e-5bf6197c81a0"
      },
      "outputs": [
        {
          "data": {
            "text/plain": [
              "26032"
            ]
          },
          "execution_count": 15,
          "metadata": {},
          "output_type": "execute_result"
        }
      ],
      "source": [
        "# Verificar la cantidad de datos en la variable datos_validacion\n",
        "len(datos_validacion)"
      ]
    },
    {
      "cell_type": "code",
      "execution_count": null,
      "metadata": {
        "id": "Nj5vjLiNdtxR"
      },
      "outputs": [],
      "source": [
        "#Preparar mis variables X (entradas) y y (etiquetas) separadas\n",
        "\n",
        "X_val = [] #imagenes de entrada (pixeles)\n",
        "y_val = [] #etiquetas (números de 0-9)\n",
        "\n",
        "for imagen, etiqueta in datos_validacion:\n",
        "  X_val.append(imagen)\n",
        "  y_val.append(etiqueta)\n",
        "\n",
        "#Normalizar\n",
        "X_val = np.array(X_val).astype(float) / 255\n",
        "y_val = np.array(y_val)"
      ]
    },
    {
      "cell_type": "markdown",
      "metadata": {
        "id": "CsPV6CDbqkeD"
      },
      "source": [
        "## Imagenes de prueba:\n"
      ]
    },
    {
      "cell_type": "code",
      "execution_count": null,
      "metadata": {
        "id": "2QZcsELI1Kzi"
      },
      "outputs": [],
      "source": [
        "muestra = datos['extra'].take(10000) # se toman 10,000 imagenes del conjunto extra como muestra para las pruebas"
      ]
    },
    {
      "cell_type": "code",
      "execution_count": null,
      "metadata": {
        "id": "u-4c27ygqrKW"
      },
      "outputs": [],
      "source": [
        "#imagenes pruebas\n",
        "#Separamos lo datos\n",
        "datos_pruebas = [] #Lista para entrenar\n",
        "for i, (imagen, etiqueta) in enumerate(muestra): #Todos los datos\n",
        "  imagen = cv2.resize(imagen.numpy(), (TAMANO_IMG, TAMANO_IMG)) #Cambio a un arreglo de numpy\n",
        "  imagen = cv2.cvtColor(imagen, cv2.COLOR_BGR2GRAY) #Cambio a blanco y negro\n",
        "  datos_pruebas.append([imagen, etiqueta])"
      ]
    },
    {
      "cell_type": "code",
      "execution_count": null,
      "metadata": {
        "id": "SLfpc50erU6Q"
      },
      "outputs": [],
      "source": [
        "#Separar las imagenes y las etiquetas\n",
        "#Preparar mis variables X (entradas) y y (etiquetas) separadas\n",
        "\n",
        "imagenes_prueba = [] #imagenes de entrada (pixeles)\n",
        "etiquetas_prueba = [] #etiquetas (números de 0-9)\n",
        "\n",
        "for imagen, etiqueta in datos_pruebas:\n",
        "  imagenes_prueba.append(imagen)\n",
        "  etiquetas_prueba.append(etiqueta)\n",
        "\n",
        "#Normalizar\n",
        "imagenes_prueba = np.array(imagenes_prueba).astype(float) / 255\n",
        "etiquetas_prueba = np.array(etiquetas_prueba)"
      ]
    },
    {
      "cell_type": "markdown",
      "metadata": {
        "id": "H3zg44R8XpXp"
      },
      "source": [
        "___________________________"
      ]
    },
    {
      "cell_type": "markdown",
      "metadata": {
        "id": "yM3kOHxngux3"
      },
      "source": [
        "##Modelo denso:"
      ]
    },
    {
      "cell_type": "code",
      "execution_count": null,
      "metadata": {
        "id": "g5EVJtt5f5N6"
      },
      "outputs": [],
      "source": [
        "# Definir un modelo denso\n",
        "modeloDenso = tf.keras.models.Sequential([\n",
        "    tf.keras.layers.Flatten(input_shape=(32, 32, 1)),  # Capa de aplanado\n",
        "    tf.keras.layers.Dense(64, activation='relu'),  # Capa densa con activación ReLU\n",
        "    tf.keras.layers.Dense(64, activation='relu'),  # Capa densa con activación ReLU\n",
        "    tf.keras.layers.Dense(10, activation='softmax')  # Capa de salida con activación Softmax\n",
        "])\n"
      ]
    },
    {
      "cell_type": "code",
      "execution_count": null,
      "metadata": {
        "id": "jFrY8hfQgtyR"
      },
      "outputs": [],
      "source": [
        "modeloDenso.compile(optimizer='adam',\n",
        "                    loss='sparse_categorical_crossentropy',\n",
        "                    metrics=['accuracy'])"
      ]
    },
    {
      "cell_type": "code",
      "execution_count": null,
      "metadata": {
        "colab": {
          "base_uri": "https://localhost:8080/"
        },
        "id": "TR4IE8TGhkVn",
        "outputId": "d247e3c8-e15c-4139-a469-f71343e9370b"
      },
      "outputs": [
        {
          "name": "stdout",
          "output_type": "stream",
          "text": [
            "Epoch 1/10\n",
            "2290/2290 [==============================] - 12s 5ms/step - loss: 2.0208 - accuracy: 0.2843 - val_loss: 1.7942 - val_accuracy: 0.3822\n",
            "Epoch 2/10\n",
            "2290/2290 [==============================] - 10s 4ms/step - loss: 1.7470 - accuracy: 0.3910 - val_loss: 1.7808 - val_accuracy: 0.3826\n",
            "Epoch 3/10\n",
            "2290/2290 [==============================] - 9s 4ms/step - loss: 1.7180 - accuracy: 0.4031 - val_loss: 1.7772 - val_accuracy: 0.3825\n",
            "Epoch 4/10\n",
            "2290/2290 [==============================] - 10s 4ms/step - loss: 1.6677 - accuracy: 0.4247 - val_loss: 1.6804 - val_accuracy: 0.4329\n",
            "Epoch 5/10\n",
            "2290/2290 [==============================] - 10s 4ms/step - loss: 1.5929 - accuracy: 0.4516 - val_loss: 1.6391 - val_accuracy: 0.4385\n",
            "Epoch 6/10\n",
            "2290/2290 [==============================] - 10s 4ms/step - loss: 1.5437 - accuracy: 0.4704 - val_loss: 1.5904 - val_accuracy: 0.4675\n",
            "Epoch 7/10\n",
            "2290/2290 [==============================] - 10s 4ms/step - loss: 1.5068 - accuracy: 0.4880 - val_loss: 1.5694 - val_accuracy: 0.4800\n",
            "Epoch 8/10\n",
            "2290/2290 [==============================] - 11s 5ms/step - loss: 1.4779 - accuracy: 0.5014 - val_loss: 1.5591 - val_accuracy: 0.4916\n",
            "Epoch 9/10\n",
            "2290/2290 [==============================] - 11s 5ms/step - loss: 1.4565 - accuracy: 0.5097 - val_loss: 1.5460 - val_accuracy: 0.4904\n",
            "Epoch 10/10\n",
            "2290/2290 [==============================] - 10s 4ms/step - loss: 1.4374 - accuracy: 0.5188 - val_loss: 1.5137 - val_accuracy: 0.5107\n",
            "Tiempo de compilacion y ejecucion: 2 minutos y 23 segundos\n"
          ]
        }
      ],
      "source": [
        "#La variable de tensorboard se envia en el arreglo de \"callbacks\" (hay otros tipos de callbacks soportados)\n",
        "#En este caso guarda datos en la carpeta indicada en cada epoca, de manera que despues\n",
        "#Tensorboard los lee para hacer graficas\n",
        "\n",
        "\"\"\"Mediante la libreria time se mide el tiempo de ejecucion que tardo el sistema en\n",
        "entrenar el modelo para el numero de epocas dado por medio de las variables tf y ti, se\n",
        "realiza al final un calculo aritmetico para imprimir el tiempo en minutos y segundos\"\"\"\n",
        "import time\n",
        "\n",
        "ti = time.time()\n",
        "\n",
        "tensorboardDenso = TensorBoard(log_dir='logs/denso')\n",
        "histDenso = modeloDenso.fit(X, y,\n",
        "                epochs=10,\n",
        "                validation_data=(X_val, y_val),\n",
        "                callbacks=[tensorboardDenso])\n",
        "\n",
        "tf = time.time()\n",
        "duracion = int(tf - ti)\n",
        "min_t_total = int(duracion / 60)\n",
        "if duracion % 60 == 0:\n",
        "    duracion = 0\n",
        "else:\n",
        "    duracion = duracion - (min_t_total * 60)\n",
        "print(\"Tiempo de compilacion y ejecucion: {} minutos y {} segundos\".format(min_t_total, duracion))"
      ]
    },
    {
      "cell_type": "code",
      "execution_count": null,
      "metadata": {
        "colab": {
          "base_uri": "https://localhost:8080/",
          "height": 472
        },
        "id": "--7C2IE1BAeM",
        "outputId": "d2a5092e-1622-44e9-dbc7-4e7acb7bf900"
      },
      "outputs": [
        {
          "data": {
            "image/png": "[encoded data removed]",
            "text/plain": [
              "<Figure size 640x480 with 1 Axes>"
            ]
          },
          "metadata": {},
          "output_type": "display_data"
        }
      ],
      "source": [
        "# Graficar la precisión\n",
        "plt.plot(histDenso.history['accuracy'], label='Accuracy', c='blue')\n",
        "plt.plot(histDenso.history['val_accuracy'], label='Val_Accuracy', c='green')\n",
        "plt.xlabel('Epoch')\n",
        "plt.ylabel('Accuracy')\n",
        "plt.title('Precisión Modelo Denso')\n",
        "plt.legend()\n",
        "plt.show()\n"
      ]
    },
    {
      "cell_type": "code",
      "execution_count": null,
      "metadata": {
        "colab": {
          "base_uri": "https://localhost:8080/",
          "height": 472
        },
        "id": "6Cm6FjffGhzu",
        "outputId": "17a2d9d1-d098-49df-d722-e73225e9d75a"
      },
      "outputs": [
        {
          "data": {
            "image/png": "[encoded data removed]",
            "text/plain": [
              "<Figure size 640x480 with 1 Axes>"
            ]
          },
          "metadata": {},
          "output_type": "display_data"
        }
      ],
      "source": [
        "# Graficar la pérdida\n",
        "plt.plot(histDenso.history['loss'], label='Loss', c='red')\n",
        "plt.plot(histDenso.history['val_loss'], label='Val_Loss', c='orange')\n",
        "plt.xlabel('Epoch')\n",
        "plt.ylabel('Accuracy')\n",
        "plt.title('Pérdida Modelo Denso')\n",
        "plt.legend()\n",
        "plt.show()"
      ]
    },
    {
      "cell_type": "markdown",
      "metadata": {
        "id": "Tr_M-z2PY3VO"
      },
      "source": [
        "### Pruebas y predicciones:"
      ]
    },
    {
      "cell_type": "code",
      "execution_count": null,
      "metadata": {
        "colab": {
          "base_uri": "https://localhost:8080/"
        },
        "id": "jb8ofwDrAjq6",
        "outputId": "601dfef6-a917-4590-964d-29bbc5d46175"
      },
      "outputs": [
        {
          "name": "stdout",
          "output_type": "stream",
          "text": [
            "La perdida es: 1.2991520166397095\n",
            "El accuracy es: 0.5569000244140625\n"
          ]
        }
      ],
      "source": [
        "\"\"\"Por medio de .evaluate se usa como muestra una imagen aleatoria junto con su etiqueta del subconjunto\n",
        "de extras para comprobar la eficiencia de cada modelo\"\"\"\n",
        "test_loss, test_accuracy = modeloDenso.evaluate(imagenes_prueba, etiquetas_prueba, verbose = 0)\n",
        "\n",
        "print(\"La perdida es:\", test_loss)\n",
        "print(\"El accuracy es:\", test_accuracy)"
      ]
    },
    {
      "cell_type": "code",
      "execution_count": null,
      "metadata": {
        "colab": {
          "base_uri": "https://localhost:8080/",
          "height": 1000
        },
        "id": "Q0QibIoQCNz2",
        "outputId": "979dce8b-686c-4f8f-f2f2-dfe69ad995bf"
      },
      "outputs": [
        {
          "name": "stdout",
          "output_type": "stream",
          "text": [
            "1/1 [==============================] - 0s 76ms/step\n"
          ]
        },
        {
          "data": {
            "image/png": "[encoded data removed]",
            "text/plain": [
              "<Figure size 1600x1200 with 8 Axes>"
            ]
          },
          "metadata": {},
          "output_type": "display_data"
        }
      ],
      "source": [
        "\"\"\"En los siguientes bloques de codigo se realiza una comparacion grafica entre las categorias\n",
        "que se muestran en las imagenes y las categorias que los modelos predicen con funcion en aquel\n",
        "de mayor probabilidad de a cuerdo con su numero coincidencias en pixeles\"\"\"\n",
        "num_test_images = imagenes_prueba.shape[0]\n",
        "\n",
        "random_inx = np.random.choice(num_test_images, 4, replace = True)\n",
        "random_test_images = imagenes_prueba[random_inx]\n",
        "random_test_labels = etiquetas_prueba[random_inx]\n",
        "\n",
        "predicciones = modeloDenso.predict(random_test_images) # con .predict se inicializa el modelo para realizar predicciones\n",
        "\n",
        "fig, axes = plt.subplots(4, 2, figsize = (16, 12))\n",
        "\n",
        "for i, (prediccion, image, label) in enumerate(zip(predicciones, random_test_images, random_test_labels)):\n",
        "  axes[i, 0].imshow(np.squeeze(image))\n",
        "  axes[i, 0].get_xaxis().set_visible(False)\n",
        "  axes[i, 0].get_yaxis().set_visible(False)\n",
        "  axes[i, 0].text(10., -1.5, f'Categoria predecida: {label}')\n",
        "  axes[i, 1].bar(np.arange(len(prediccion)), prediccion, color = 'indigo')\n",
        "  axes[i, 1].set_xticks(np.arange(len(prediccion)))\n",
        "  axes[i, 1].set_title(f'Categoria predecida: {np.argmax(prediccion)}')"
      ]
    },
    {
      "cell_type": "markdown",
      "metadata": {
        "id": "bz10G_eAXkGU"
      },
      "source": [
        "__________________"
      ]
    },
    {
      "cell_type": "markdown",
      "metadata": {
        "id": "H8RO7D9cmHUu"
      },
      "source": [
        "##Modelo convolucional 1:\n",
        "\n"
      ]
    },
    {
      "cell_type": "code",
      "execution_count": null,
      "metadata": {
        "id": "WhFrpgG_mPrn"
      },
      "outputs": [],
      "source": [
        "# Definir un modelo de red neuronal convolucional (CNN)\n",
        "modeloCNN = tf.keras.models.Sequential([\n",
        "    tf.keras.layers.Conv2D(32, (3, 3), activation='relu', input_shape=(32, 32, 1)),  # Capa convolucional\n",
        "    tf.keras.layers.MaxPooling2D(2, 2),  # Capa de max pooling\n",
        "    tf.keras.layers.Conv2D(64, (3, 3), activation='relu'),  # Capa convolucional\n",
        "    tf.keras.layers.MaxPooling2D(2, 2),  # Capa de max pooling\n",
        "    tf.keras.layers.Conv2D(128, (3, 3), activation='relu'),  # Capa convolucional\n",
        "    tf.keras.layers.MaxPooling2D(2, 2),  # Capa de max pooling\n",
        "\n",
        "    tf.keras.layers.Flatten(),  # Capa de aplanado\n",
        "    tf.keras.layers.Dense(100, activation='relu'),  # Capa densa con activación ReLU\n",
        "    tf.keras.layers.Dense(10, activation='softmax')  # Capa de salida con activación Softmax\n",
        "])\n"
      ]
    },
    {
      "cell_type": "code",
      "execution_count": null,
      "metadata": {
        "id": "e1AQKu7LmVNp"
      },
      "outputs": [],
      "source": [
        "modeloCNN.compile(optimizer='adam',\n",
        "                    loss='sparse_categorical_crossentropy',\n",
        "                    metrics=['accuracy'])"
      ]
    },
    {
      "cell_type": "code",
      "execution_count": null,
      "metadata": {
        "colab": {
          "base_uri": "https://localhost:8080/"
        },
        "id": "JfODLOT6mY4i",
        "outputId": "707fe8aa-276b-482d-fec7-6f535c6fc679"
      },
      "outputs": [
        {
          "name": "stdout",
          "output_type": "stream",
          "text": [
            "Epoch 1/10\n",
            "2290/2290 [==============================] - 20s 6ms/step - loss: 0.9016 - accuracy: 0.7167 - val_loss: 0.6048 - val_accuracy: 0.8287\n",
            "Epoch 2/10\n",
            "2290/2290 [==============================] - 16s 7ms/step - loss: 0.4674 - accuracy: 0.8649 - val_loss: 0.4625 - val_accuracy: 0.8724\n",
            "Epoch 3/10\n",
            "2290/2290 [==============================] - 13s 6ms/step - loss: 0.3855 - accuracy: 0.8863 - val_loss: 0.4012 - val_accuracy: 0.8868\n",
            "Epoch 4/10\n",
            "2290/2290 [==============================] - 14s 6ms/step - loss: 0.3378 - accuracy: 0.8990 - val_loss: 0.3735 - val_accuracy: 0.8938\n",
            "Epoch 5/10\n",
            "2290/2290 [==============================] - 13s 6ms/step - loss: 0.3040 - accuracy: 0.9099 - val_loss: 0.3649 - val_accuracy: 0.8972\n",
            "Epoch 6/10\n",
            "2290/2290 [==============================] - 12s 5ms/step - loss: 0.2799 - accuracy: 0.9166 - val_loss: 0.3512 - val_accuracy: 0.9007\n",
            "Epoch 7/10\n",
            "2290/2290 [==============================] - 13s 5ms/step - loss: 0.2589 - accuracy: 0.9231 - val_loss: 0.3563 - val_accuracy: 0.8989\n",
            "Epoch 8/10\n",
            "2290/2290 [==============================] - 12s 5ms/step - loss: 0.2418 - accuracy: 0.9274 - val_loss: 0.3372 - val_accuracy: 0.9067\n",
            "Epoch 9/10\n",
            "2290/2290 [==============================] - 13s 5ms/step - loss: 0.2263 - accuracy: 0.9321 - val_loss: 0.3430 - val_accuracy: 0.9049\n",
            "Epoch 10/10\n",
            "2290/2290 [==============================] - 13s 6ms/step - loss: 0.2118 - accuracy: 0.9370 - val_loss: 0.3304 - val_accuracy: 0.9113\n",
            "Tiempo de compilacion y ejecucion: 2 minutos y 23 segundos\n"
          ]
        }
      ],
      "source": [
        "ti = time.time()\n",
        "\n",
        "tensorboardCNN = TensorBoard(log_dir='logs/cnn')\n",
        "histCNN = modeloCNN.fit(X, y,\n",
        "                epochs=10,\n",
        "                validation_data=(X_val, y_val),\n",
        "                callbacks=[tensorboardCNN])\n",
        "\n",
        "tf = time.time()\n",
        "duracion = int(tf - ti)\n",
        "min_t_total = int(duracion / 60)\n",
        "if duracion % 60 == 0:\n",
        "    duracion = 0\n",
        "else:\n",
        "    duracion = duracion - (min_t_total * 60)\n",
        "print(\"Tiempo de compilacion y ejecucion: {} minutos y {} segundos\".format(min_t_total, duracion))"
      ]
    },
    {
      "cell_type": "code",
      "execution_count": null,
      "metadata": {
        "colab": {
          "base_uri": "https://localhost:8080/",
          "height": 472
        },
        "id": "mw6cJ3ghL73s",
        "outputId": "7da80201-b409-4723-b282-fec761fb4f21"
      },
      "outputs": [
        {
          "data": {
            "image/png": "[encoded data removed]",
            "text/plain": [
              "<Figure size 640x480 with 1 Axes>"
            ]
          },
          "metadata": {},
          "output_type": "display_data"
        }
      ],
      "source": [
        "# Graficar la precisión\n",
        "plt.plot(histCNN.history['accuracy'], label='Accuracy', c='blue')\n",
        "plt.plot(histCNN.history['val_accuracy'], label='Val_Accuracy', c='green')\n",
        "plt.xlabel('Epoch')\n",
        "plt.ylabel('Accuracy')\n",
        "plt.title('Precisión Modelo CNN')\n",
        "plt.legend()\n",
        "plt.show()"
      ]
    },
    {
      "cell_type": "code",
      "execution_count": null,
      "metadata": {
        "colab": {
          "base_uri": "https://localhost:8080/",
          "height": 472
        },
        "id": "bvrSl5IsG6Be",
        "outputId": "ed30f384-a4e2-4624-c662-180a0b62e8a4"
      },
      "outputs": [
        {
          "data": {
            "image/png": "[encoded data removed]",
            "text/plain": [
              "<Figure size 640x480 with 1 Axes>"
            ]
          },
          "metadata": {},
          "output_type": "display_data"
        }
      ],
      "source": [
        "# Graficar la pérdida\n",
        "plt.plot(histCNN.history['loss'], label='Loss', c='red')\n",
        "plt.plot(histCNN.history['val_loss'], label='Val_Loss', c='orange')\n",
        "plt.xlabel('Epoch')\n",
        "plt.ylabel('Accuracy')\n",
        "plt.title('Pérdida Modelo CNN')\n",
        "plt.legend()\n",
        "plt.show()"
      ]
    },
    {
      "cell_type": "markdown",
      "metadata": {
        "id": "43tvVvZWYz_K"
      },
      "source": [
        "### Pruebas y predicciones:"
      ]
    },
    {
      "cell_type": "code",
      "execution_count": null,
      "metadata": {
        "colab": {
          "base_uri": "https://localhost:8080/"
        },
        "id": "6scPGWDuAczH",
        "outputId": "3b204a6a-3161-4bab-f00a-caee189c8491"
      },
      "outputs": [
        {
          "name": "stdout",
          "output_type": "stream",
          "text": [
            "La perdida es: 0.17493025958538055\n",
            "El accuracy es: 0.9516000151634216\n"
          ]
        }
      ],
      "source": [
        "\"\"\"Analogo al modelo anterior\"\"\"\n",
        "test_loss, test_accuracy = modeloCNN.evaluate(imagenes_prueba, etiquetas_prueba, verbose = 0)\n",
        "\n",
        "print(\"La perdida es:\", test_loss)\n",
        "print(\"El accuracy es:\", test_accuracy)"
      ]
    },
    {
      "cell_type": "code",
      "execution_count": null,
      "metadata": {
        "colab": {
          "base_uri": "https://localhost:8080/",
          "height": 1000
        },
        "id": "KzQijPtKzHs1",
        "outputId": "d824ac5b-adf2-4cc2-dd8d-86eeb26b6dfa"
      },
      "outputs": [
        {
          "name": "stdout",
          "output_type": "stream",
          "text": [
            "1/1 [==============================] - 0s 28ms/step\n"
          ]
        },
        {
          "data": {
            "image/png": "[encoded data removed]",
            "text/plain": [
              "<Figure size 1600x1200 with 8 Axes>"
            ]
          },
          "metadata": {},
          "output_type": "display_data"
        }
      ],
      "source": [
        "\"\"\"Analogo al modelo anterior\"\"\"\n",
        "num_test_images = imagenes_prueba.shape[0]\n",
        "\n",
        "random_inx = np.random.choice(num_test_images, 4, replace = True)\n",
        "random_test_images = imagenes_prueba[random_inx]\n",
        "random_test_labels = etiquetas_prueba[random_inx]\n",
        "\n",
        "predicciones = modeloCNN.predict(random_test_images) # con .predict se inicializa el modelo para realizar predicciones\n",
        "\n",
        "fig, axes = plt.subplots(4, 2, figsize = (16, 12))\n",
        "\n",
        "for i, (prediccion, image, label) in enumerate(zip(predicciones, random_test_images, random_test_labels)):\n",
        "  axes[i, 0].imshow(np.squeeze(image))\n",
        "  axes[i, 0].get_xaxis().set_visible(False)\n",
        "  axes[i, 0].get_yaxis().set_visible(False)\n",
        "  axes[i, 0].text(10., -1.5, f'Categoria predecida: {label}')\n",
        "  axes[i, 1].bar(np.arange(len(prediccion)), prediccion, color = 'indigo')\n",
        "  axes[i, 1].set_xticks(np.arange(len(prediccion)))\n",
        "  axes[i, 1].set_title(f'Categoria predecida: {np.argmax(prediccion)}')"
      ]
    },
    {
      "cell_type": "markdown",
      "metadata": {
        "id": "8ZTnZhgfXzxP"
      },
      "source": [
        "______________________"
      ]
    },
    {
      "cell_type": "markdown",
      "metadata": {
        "id": "fp_DYCgf9BvB"
      },
      "source": [
        "##Modelo convusional 2:"
      ]
    },
    {
      "cell_type": "code",
      "execution_count": null,
      "metadata": {
        "id": "3oUUfmvN9G42"
      },
      "outputs": [],
      "source": [
        "\"\"\"Análogo al primer modelo convolucional, se genera una secuencia de capas con tensores como entradas,\n",
        "en este caso se usan tangentes hiperbolicas (250) y una sigmoidal (10) como funciones de activacion y\n",
        "haciendo uso de un dropout de 0.5\"\"\"\n",
        "modeloCNN2 = tf.keras.models.Sequential([\n",
        "  tf.keras.layers.Conv2D(32, (3,3), activation='tanh', input_shape=(32, 32, 1)),\n",
        "  tf.keras.layers.MaxPooling2D(2, 2),\n",
        "  tf.keras.layers.Conv2D(64, (3,3), activation='tanh'),\n",
        "  tf.keras.layers.MaxPooling2D(2, 2),\n",
        "  tf.keras.layers.Conv2D(128, (3,3), activation='tanh'),\n",
        "  tf.keras.layers.MaxPooling2D(2, 2),\n",
        "\n",
        "  tf.keras.layers.Dropout(0.5),\n",
        "  tf.keras.layers.Flatten(),\n",
        "  tf.keras.layers.Dense(250, activation='tanh'),\n",
        "  tf.keras.layers.Dense(10, activation='sigmoid')\n",
        "])"
      ]
    },
    {
      "cell_type": "code",
      "execution_count": null,
      "metadata": {
        "id": "ipfNN3Fx9S1r"
      },
      "outputs": [],
      "source": [
        "modeloCNN2.compile(optimizer='adam',\n",
        "                    loss='sparse_categorical_crossentropy',\n",
        "                    metrics=['accuracy'])"
      ]
    },
    {
      "cell_type": "code",
      "execution_count": null,
      "metadata": {
        "colab": {
          "base_uri": "https://localhost:8080/"
        },
        "id": "x19QSP159aUi",
        "outputId": "43216e3f-2459-4652-84c1-a71b480adfa1"
      },
      "outputs": [
        {
          "name": "stdout",
          "output_type": "stream",
          "text": [
            "Epoch 1/10\n",
            "2290/2290 [==============================] - 17s 6ms/step - loss: 0.8125 - accuracy: 0.7484 - val_loss: 0.5481 - val_accuracy: 0.8445\n",
            "Epoch 2/10\n",
            "2290/2290 [==============================] - 14s 6ms/step - loss: 0.5433 - accuracy: 0.8351 - val_loss: 0.5057 - val_accuracy: 0.8509\n",
            "Epoch 3/10\n",
            "2290/2290 [==============================] - 14s 6ms/step - loss: 0.4752 - accuracy: 0.8558 - val_loss: 0.4239 - val_accuracy: 0.8762\n",
            "Epoch 4/10\n",
            "2290/2290 [==============================] - 13s 6ms/step - loss: 0.4373 - accuracy: 0.8669 - val_loss: 0.4008 - val_accuracy: 0.8833\n",
            "Epoch 5/10\n",
            "2290/2290 [==============================] - 13s 6ms/step - loss: 0.4013 - accuracy: 0.8781 - val_loss: 0.3937 - val_accuracy: 0.8845\n",
            "Epoch 6/10\n",
            "2290/2290 [==============================] - 13s 6ms/step - loss: 0.3791 - accuracy: 0.8854 - val_loss: 0.3714 - val_accuracy: 0.8903\n",
            "Epoch 7/10\n",
            "2290/2290 [==============================] - 13s 6ms/step - loss: 0.3652 - accuracy: 0.8898 - val_loss: 0.3757 - val_accuracy: 0.8908\n",
            "Epoch 8/10\n",
            "2290/2290 [==============================] - 14s 6ms/step - loss: 0.3524 - accuracy: 0.8932 - val_loss: 0.3681 - val_accuracy: 0.8942\n",
            "Epoch 9/10\n",
            "2290/2290 [==============================] - 14s 6ms/step - loss: 0.3460 - accuracy: 0.8957 - val_loss: 0.3525 - val_accuracy: 0.8975\n",
            "Epoch 10/10\n",
            "2290/2290 [==============================] - 14s 6ms/step - loss: 0.3366 - accuracy: 0.8969 - val_loss: 0.3560 - val_accuracy: 0.8954\n",
            "Tiempo de compilacion y ejecucion: 2 minutos y 23 segundos\n"
          ]
        }
      ],
      "source": [
        "\"\"\"Analogamente se entrena el modelo con 10 epocas y se mide el tiempo de ejecucion y compilacion\"\"\"\n",
        "ti = time.time()\n",
        "\n",
        "tensorboardCNN2 = TensorBoard(log_dir='logs/cnn2')\n",
        "histCNN2 = modeloCNN2.fit(X, y,\n",
        "                epochs=10,\n",
        "                validation_data=(X_val, y_val),\n",
        "                callbacks=[tensorboardCNN2])\n",
        "\n",
        "tf = time.time()\n",
        "duracion = int(tf - ti)\n",
        "min_t_total = int(duracion / 60)\n",
        "if duracion % 60 == 0:\n",
        "    duracion = 0\n",
        "else:\n",
        "    duracion = duracion - (min_t_total * 60)\n",
        "print(\"Tiempo de compilacion y ejecucion: {} minutos y {} segundos\".format(min_t_total, duracion))"
      ]
    },
    {
      "cell_type": "code",
      "execution_count": null,
      "metadata": {
        "colab": {
          "base_uri": "https://localhost:8080/",
          "height": 472
        },
        "id": "qp3RQp0VIu8A",
        "outputId": "c60c1f61-4e37-4167-b156-3efbf2b9fec4"
      },
      "outputs": [
        {
          "data": {
            "image/png": "[encoded data removed]",
            "text/plain": [
              "<Figure size 640x480 with 1 Axes>"
            ]
          },
          "metadata": {},
          "output_type": "display_data"
        }
      ],
      "source": [
        "# Graficar la precisión\n",
        "plt.plot(histCNN2.history['accuracy'], label='Accuracy', c='blue')\n",
        "plt.plot(histCNN2.history['val_accuracy'], label='Val_Accuracy', c='green')\n",
        "\n",
        "plt.xlabel('Epoch')\n",
        "plt.ylabel('Accuracy')\n",
        "plt.title('Precisión Modelo CNN2')\n",
        "plt.legend()\n",
        "plt.show()"
      ]
    },
    {
      "cell_type": "code",
      "execution_count": null,
      "metadata": {
        "colab": {
          "base_uri": "https://localhost:8080/",
          "height": 472
        },
        "id": "G9XOTVlTI5Fh",
        "outputId": "7c0ce7d3-f4ec-442e-9fd4-29ce75ec5a7e"
      },
      "outputs": [
        {
          "data": {
            "image/png": "[encoded data removed]",
            "text/plain": [
              "<Figure size 640x480 with 1 Axes>"
            ]
          },
          "metadata": {},
          "output_type": "display_data"
        }
      ],
      "source": [
        "# Graficar la pérdida\n",
        "plt.plot(histCNN2.history['loss'], label='Loss', c='red')\n",
        "plt.plot(histCNN2.history['val_loss'], label='Val_Loss', c='orange')\n",
        "plt.xlabel('Epoch')\n",
        "plt.ylabel('Accuracy')\n",
        "plt.title('Pérdida Modelo CNN2')\n",
        "plt.legend()\n",
        "plt.show()"
      ]
    },
    {
      "cell_type": "markdown",
      "metadata": {
        "id": "XuU_skHqYp7a"
      },
      "source": [
        "### Pruebas y predicciones:"
      ]
    },
    {
      "cell_type": "code",
      "execution_count": null,
      "metadata": {
        "colab": {
          "base_uri": "https://localhost:8080/"
        },
        "id": "F8jqAMHYwzLu",
        "outputId": "eb1c192e-6c0d-4af9-a493-2dc361454a70"
      },
      "outputs": [
        {
          "name": "stdout",
          "output_type": "stream",
          "text": [
            "La perdida es: 0.18064869940280914\n",
            "El accuracy es: 0.9476000070571899\n"
          ]
        }
      ],
      "source": [
        "\"\"\"Analogo al modelo anterior\"\"\"\n",
        "test_loss, test_accuracy = modeloCNN2.evaluate(imagenes_prueba, etiquetas_prueba, verbose = 0)\n",
        "\n",
        "print(\"La perdida es:\", test_loss)\n",
        "print(\"El accuracy es:\", test_accuracy)"
      ]
    },
    {
      "cell_type": "code",
      "execution_count": null,
      "metadata": {
        "colab": {
          "base_uri": "https://localhost:8080/",
          "height": 1000
        },
        "id": "OhS-mBFxC12Z",
        "outputId": "06e0075c-62ef-4dd6-d2c1-852a00895d4a"
      },
      "outputs": [
        {
          "name": "stdout",
          "output_type": "stream",
          "text": [
            "1/1 [==============================] - 0s 17ms/step\n"
          ]
        },
        {
          "data": {
            "image/png": "[encoded data removed]",
            "text/plain": [
              "<Figure size 1600x1200 with 8 Axes>"
            ]
          },
          "metadata": {},
          "output_type": "display_data"
        }
      ],
      "source": [
        "\"\"\"Analogo al modelo anterior\"\"\"\n",
        "num_test_images = imagenes_prueba.shape[0]\n",
        "\n",
        "random_inx = np.random.choice(num_test_images, 4, replace = True)\n",
        "random_test_images = imagenes_prueba[random_inx]\n",
        "random_test_labels = etiquetas_prueba[random_inx]\n",
        "\n",
        "predicciones = modeloCNN2.predict(random_test_images) # con .predict se inicializa el modelo para realizar predicciones\n",
        "\n",
        "fig, axes = plt.subplots(4, 2, figsize = (16, 12))\n",
        "\n",
        "for i, (prediccion, image, label) in enumerate(zip(predicciones, random_test_images, random_test_labels)):\n",
        "  axes[i, 0].imshow(np.squeeze(image))\n",
        "  axes[i, 0].get_xaxis().set_visible(False)\n",
        "  axes[i, 0].get_yaxis().set_visible(False)\n",
        "  axes[i, 0].text(10., -1.5, f'Categoria predecida: {label}')\n",
        "  axes[i, 1].bar(np.arange(len(prediccion)), prediccion, color = 'indigo')\n",
        "  axes[i, 1].set_xticks(np.arange(len(prediccion)))\n",
        "  axes[i, 1].set_title(f'Categoria predecida: {np.argmax(prediccion)}')"
      ]
    },
    {
      "cell_type": "markdown",
      "metadata": {
        "id": "cPaw0NteXI4U"
      },
      "source": [
        "____________________________"
      ]
    },
    {
      "cell_type": "markdown",
      "metadata": {
        "id": "rU5Ulo8hYB1y"
      },
      "source": [
        "## Conclusión:\n",
        "\n",
        "### El modelo más adecuado para este problema resultó ser la primer red convolucional definida. Esto debido a que es el cual mejor evoluciona con funcion en las épocas vs costos y realiza las mejores predicciones."
      ]
    },
    {
      "cell_type": "markdown",
      "metadata": {
        "id": "GW6_I4kRYhTi"
      },
      "source": [
        "_________________________"
      ]
    },
    {
      "cell_type": "markdown",
      "metadata": {
        "id": "NEL4KTB1YjZv"
      },
      "source": [
        "___________________"
      ]
    }
  ],
  "metadata": {
    "accelerator": "GPU",
    "colab": {
      "gpuType": "T4",
      "provenance": []
    },
    "kernelspec": {
      "display_name": "Python 3",
      "name": "python3"
    },
    "language_info": {
      "name": "python"
    },
    "widgets": {
      "application/vnd.jupyter.widget-state+json": {
        "01f69d6491254672890880be739a3251": {
          "model_module": "@jupyter-widgets/controls",
          "model_module_version": "1.5.0",
          "model_name": "DescriptionStyleModel",
          "state": {
            "_model_module": "@jupyter-widgets/controls",
            "_model_module_version": "1.5.0",
            "_model_name": "DescriptionStyleModel",
            "_view_count": null,
            "_view_module": "@jupyter-widgets/base",
            "_view_module_version": "1.2.0",
            "_view_name": "StyleView",
            "description_width": ""
          }
        },
        "06f6fd20f53e46849175991f12563759": {
          "model_module": "@jupyter-widgets/base",
          "model_module_version": "1.2.0",
          "model_name": "LayoutModel",
          "state": {
            "_model_module": "@jupyter-widgets/base",
            "_model_module_version": "1.2.0",
            "_model_name": "LayoutModel",
            "_view_count": null,
            "_view_module": "@jupyter-widgets/base",
            "_view_module_version": "1.2.0",
            "_view_name": "LayoutView",
            "align_content": null,
            "align_items": null,
            "align_self": null,
            "border": null,
            "bottom": null,
            "display": null,
            "flex": null,
            "flex_flow": null,
            "grid_area": null,
            "grid_auto_columns": null,
            "grid_auto_flow": null,
            "grid_auto_rows": null,
            "grid_column": null,
            "grid_gap": null,
            "grid_row": null,
            "grid_template_areas": null,
            "grid_template_columns": null,
            "grid_template_rows": null,
            "height": null,
            "justify_content": null,
            "justify_items": null,
            "left": null,
            "margin": null,
            "max_height": null,
            "max_width": null,
            "min_height": null,
            "min_width": null,
            "object_fit": null,
            "object_position": null,
            "order": null,
            "overflow": null,
            "overflow_x": null,
            "overflow_y": null,
            "padding": null,
            "right": null,
            "top": null,
            "visibility": null,
            "width": null
          }
        },
        "099d5ed80e5e4917a9f4ec8840194e6b": {
          "model_module": "@jupyter-widgets/controls",
          "model_module_version": "1.5.0",
          "model_name": "DescriptionStyleModel",
          "state": {
            "_model_module": "@jupyter-widgets/controls",
            "_model_module_version": "1.5.0",
            "_model_name": "DescriptionStyleModel",
            "_view_count": null,
            "_view_module": "@jupyter-widgets/base",
            "_view_module_version": "1.2.0",
            "_view_name": "StyleView",
            "description_width": ""
          }
        },
        "0b2502a164b94670a42f442769d435a9": {
          "model_module": "@jupyter-widgets/controls",
          "model_module_version": "1.5.0",
          "model_name": "FloatProgressModel",
          "state": {
            "_dom_classes": [],
            "_model_module": "@jupyter-widgets/controls",
            "_model_module_version": "1.5.0",
            "_model_name": "FloatProgressModel",
            "_view_count": null,
            "_view_module": "@jupyter-widgets/controls",
            "_view_module_version": "1.5.0",
            "_view_name": "ProgressView",
            "bar_style": "",
            "description": "",
            "description_tooltip": null,
            "layout": "IPY_MODEL_06f6fd20f53e46849175991f12563759",
            "max": 531131,
            "min": 0,
            "orientation": "horizontal",
            "style": "IPY_MODEL_8e85d6eaf2ed4fbc80488ce1a7f1041c",
            "value": 531131
          }
        },
        "0c6fad4aeaea4521b9566d213d9dbf33": {
          "model_module": "@jupyter-widgets/controls",
          "model_module_version": "1.5.0",
          "model_name": "ProgressStyleModel",
          "state": {
            "_model_module": "@jupyter-widgets/controls",
            "_model_module_version": "1.5.0",
            "_model_name": "ProgressStyleModel",
            "_view_count": null,
            "_view_module": "@jupyter-widgets/base",
            "_view_module_version": "1.2.0",
            "_view_name": "StyleView",
            "bar_color": null,
            "description_width": ""
          }
        },
        "1204d63f4a794bbcb7f24d13714b6a0a": {
          "model_module": "@jupyter-widgets/base",
          "model_module_version": "1.2.0",
          "model_name": "LayoutModel",
          "state": {
            "_model_module": "@jupyter-widgets/base",
            "_model_module_version": "1.2.0",
            "_model_name": "LayoutModel",
            "_view_count": null,
            "_view_module": "@jupyter-widgets/base",
            "_view_module_version": "1.2.0",
            "_view_name": "LayoutView",
            "align_content": null,
            "align_items": null,
            "align_self": null,
            "border": null,
            "bottom": null,
            "display": null,
            "flex": null,
            "flex_flow": null,
            "grid_area": null,
            "grid_auto_columns": null,
            "grid_auto_flow": null,
            "grid_auto_rows": null,
            "grid_column": null,
            "grid_gap": null,
            "grid_row": null,
            "grid_template_areas": null,
            "grid_template_columns": null,
            "grid_template_rows": null,
            "height": null,
            "justify_content": null,
            "justify_items": null,
            "left": null,
            "margin": null,
            "max_height": null,
            "max_width": null,
            "min_height": null,
            "min_width": null,
            "object_fit": null,
            "object_position": null,
            "order": null,
            "overflow": null,
            "overflow_x": null,
            "overflow_y": null,
            "padding": null,
            "right": null,
            "top": null,
            "visibility": null,
            "width": "20px"
          }
        },
        "12991f2d82884cb780d04e1ef07af9b3": {
          "model_module": "@jupyter-widgets/base",
          "model_module_version": "1.2.0",
          "model_name": "LayoutModel",
          "state": {
            "_model_module": "@jupyter-widgets/base",
            "_model_module_version": "1.2.0",
            "_model_name": "LayoutModel",
            "_view_count": null,
            "_view_module": "@jupyter-widgets/base",
            "_view_module_version": "1.2.0",
            "_view_name": "LayoutView",
            "align_content": null,
            "align_items": null,
            "align_self": null,
            "border": null,
            "bottom": null,
            "display": null,
            "flex": null,
            "flex_flow": null,
            "grid_area": null,
            "grid_auto_columns": null,
            "grid_auto_flow": null,
            "grid_auto_rows": null,
            "grid_column": null,
            "grid_gap": null,
            "grid_row": null,
            "grid_template_areas": null,
            "grid_template_columns": null,
            "grid_template_rows": null,
            "height": null,
            "justify_content": null,
            "justify_items": null,
            "left": null,
            "margin": null,
            "max_height": null,
            "max_width": null,
            "min_height": null,
            "min_width": null,
            "object_fit": null,
            "object_position": null,
            "order": null,
            "overflow": null,
            "overflow_x": null,
            "overflow_y": null,
            "padding": null,
            "right": null,
            "top": null,
            "visibility": null,
            "width": null
          }
        },
        "1824296e63374944be78adfb49385054": {
          "model_module": "@jupyter-widgets/controls",
          "model_module_version": "1.5.0",
          "model_name": "HTMLModel",
          "state": {
            "_dom_classes": [],
            "_model_module": "@jupyter-widgets/controls",
            "_model_module_version": "1.5.0",
            "_model_name": "HTMLModel",
            "_view_count": null,
            "_view_module": "@jupyter-widgets/controls",
            "_view_module_version": "1.5.0",
            "_view_name": "HTMLView",
            "description": "",
            "description_tooltip": null,
            "layout": "IPY_MODEL_2e9c9f3b0f3b470598bc15282e88b695",
            "placeholder": "​",
            "style": "IPY_MODEL_6fd0441a0db8417c86bd33078af8222f",
            "value": "Generating test examples...:  97%"
          }
        },
        "1b18a364508f478692c46803391b27b1": {
          "model_module": "@jupyter-widgets/controls",
          "model_module_version": "1.5.0",
          "model_name": "HTMLModel",
          "state": {
            "_dom_classes": [],
            "_model_module": "@jupyter-widgets/controls",
            "_model_module_version": "1.5.0",
            "_model_name": "HTMLModel",
            "_view_count": null,
            "_view_module": "@jupyter-widgets/controls",
            "_view_module_version": "1.5.0",
            "_view_name": "HTMLView",
            "description": "",
            "description_tooltip": null,
            "layout": "IPY_MODEL_e2416bf6826a47469a17dabc0e968487",
            "placeholder": "​",
            "style": "IPY_MODEL_01f69d6491254672890880be739a3251",
            "value": "Shuffling /root/tensorflow_datasets/svhn_cropped/3.0.0.incomplete2YGHJT/svhn_cropped-test.tfrecord*...:  60%"
          }
        },
        "1f5fb1829a3c48b4aabec7914883e4ff": {
          "model_module": "@jupyter-widgets/controls",
          "model_module_version": "1.5.0",
          "model_name": "DescriptionStyleModel",
          "state": {
            "_model_module": "@jupyter-widgets/controls",
            "_model_module_version": "1.5.0",
            "_model_name": "DescriptionStyleModel",
            "_view_count": null,
            "_view_module": "@jupyter-widgets/base",
            "_view_module_version": "1.2.0",
            "_view_name": "StyleView",
            "description_width": ""
          }
        },
        "1fe6948343a74d63ab56e11b6cc63ea7": {
          "model_module": "@jupyter-widgets/controls",
          "model_module_version": "1.5.0",
          "model_name": "HBoxModel",
          "state": {
            "_dom_classes": [],
            "_model_module": "@jupyter-widgets/controls",
            "_model_module_version": "1.5.0",
            "_model_name": "HBoxModel",
            "_view_count": null,
            "_view_module": "@jupyter-widgets/controls",
            "_view_module_version": "1.5.0",
            "_view_name": "HBoxView",
            "box_style": "",
            "children": [
              "IPY_MODEL_6b783d88ea5b415b994ce02f396ca93c",
              "IPY_MODEL_239bcb1161144e17b7447cd8afbe7380",
              "IPY_MODEL_600e899fb35e48adb1aeb10c60f33a84"
            ],
            "layout": "IPY_MODEL_12991f2d82884cb780d04e1ef07af9b3"
          }
        },
        "2161515aca444d318423d2d4d1221238": {
          "model_module": "@jupyter-widgets/base",
          "model_module_version": "1.2.0",
          "model_name": "LayoutModel",
          "state": {
            "_model_module": "@jupyter-widgets/base",
            "_model_module_version": "1.2.0",
            "_model_name": "LayoutModel",
            "_view_count": null,
            "_view_module": "@jupyter-widgets/base",
            "_view_module_version": "1.2.0",
            "_view_name": "LayoutView",
            "align_content": null,
            "align_items": null,
            "align_self": null,
            "border": null,
            "bottom": null,
            "display": null,
            "flex": null,
            "flex_flow": null,
            "grid_area": null,
            "grid_auto_columns": null,
            "grid_auto_flow": null,
            "grid_auto_rows": null,
            "grid_column": null,
            "grid_gap": null,
            "grid_row": null,
            "grid_template_areas": null,
            "grid_template_columns": null,
            "grid_template_rows": null,
            "height": null,
            "justify_content": null,
            "justify_items": null,
            "left": null,
            "margin": null,
            "max_height": null,
            "max_width": null,
            "min_height": null,
            "min_width": null,
            "object_fit": null,
            "object_position": null,
            "order": null,
            "overflow": null,
            "overflow_x": null,
            "overflow_y": null,
            "padding": null,
            "right": null,
            "top": null,
            "visibility": null,
            "width": null
          }
        },
        "239bcb1161144e17b7447cd8afbe7380": {
          "model_module": "@jupyter-widgets/controls",
          "model_module_version": "1.5.0",
          "model_name": "FloatProgressModel",
          "state": {
            "_dom_classes": [],
            "_model_module": "@jupyter-widgets/controls",
            "_model_module_version": "1.5.0",
            "_model_name": "FloatProgressModel",
            "_view_count": null,
            "_view_module": "@jupyter-widgets/controls",
            "_view_module_version": "1.5.0",
            "_view_name": "ProgressView",
            "bar_style": "success",
            "description": "",
            "description_tooltip": null,
            "layout": "IPY_MODEL_1204d63f4a794bbcb7f24d13714b6a0a",
            "max": 1,
            "min": 0,
            "orientation": "horizontal",
            "style": "IPY_MODEL_51e93ac2400142658d842846f2b0145e",
            "value": 1
          }
        },
        "2e9c9f3b0f3b470598bc15282e88b695": {
          "model_module": "@jupyter-widgets/base",
          "model_module_version": "1.2.0",
          "model_name": "LayoutModel",
          "state": {
            "_model_module": "@jupyter-widgets/base",
            "_model_module_version": "1.2.0",
            "_model_name": "LayoutModel",
            "_view_count": null,
            "_view_module": "@jupyter-widgets/base",
            "_view_module_version": "1.2.0",
            "_view_name": "LayoutView",
            "align_content": null,
            "align_items": null,
            "align_self": null,
            "border": null,
            "bottom": null,
            "display": null,
            "flex": null,
            "flex_flow": null,
            "grid_area": null,
            "grid_auto_columns": null,
            "grid_auto_flow": null,
            "grid_auto_rows": null,
            "grid_column": null,
            "grid_gap": null,
            "grid_row": null,
            "grid_template_areas": null,
            "grid_template_columns": null,
            "grid_template_rows": null,
            "height": null,
            "justify_content": null,
            "justify_items": null,
            "left": null,
            "margin": null,
            "max_height": null,
            "max_width": null,
            "min_height": null,
            "min_width": null,
            "object_fit": null,
            "object_position": null,
            "order": null,
            "overflow": null,
            "overflow_x": null,
            "overflow_y": null,
            "padding": null,
            "right": null,
            "top": null,
            "visibility": null,
            "width": null
          }
        },
        "2feaced150f94e3db2d528b81292238b": {
          "model_module": "@jupyter-widgets/base",
          "model_module_version": "1.2.0",
          "model_name": "LayoutModel",
          "state": {
            "_model_module": "@jupyter-widgets/base",
            "_model_module_version": "1.2.0",
            "_model_name": "LayoutModel",
            "_view_count": null,
            "_view_module": "@jupyter-widgets/base",
            "_view_module_version": "1.2.0",
            "_view_name": "LayoutView",
            "align_content": null,
            "align_items": null,
            "align_self": null,
            "border": null,
            "bottom": null,
            "display": null,
            "flex": null,
            "flex_flow": null,
            "grid_area": null,
            "grid_auto_columns": null,
            "grid_auto_flow": null,
            "grid_auto_rows": null,
            "grid_column": null,
            "grid_gap": null,
            "grid_row": null,
            "grid_template_areas": null,
            "grid_template_columns": null,
            "grid_template_rows": null,
            "height": null,
            "justify_content": null,
            "justify_items": null,
            "left": null,
            "margin": null,
            "max_height": null,
            "max_width": null,
            "min_height": null,
            "min_width": null,
            "object_fit": null,
            "object_position": null,
            "order": null,
            "overflow": null,
            "overflow_x": null,
            "overflow_y": null,
            "padding": null,
            "right": null,
            "top": null,
            "visibility": "hidden",
            "width": null
          }
        },
        "3338ae09aae14f528edd32c140449016": {
          "model_module": "@jupyter-widgets/base",
          "model_module_version": "1.2.0",
          "model_name": "LayoutModel",
          "state": {
            "_model_module": "@jupyter-widgets/base",
            "_model_module_version": "1.2.0",
            "_model_name": "LayoutModel",
            "_view_count": null,
            "_view_module": "@jupyter-widgets/base",
            "_view_module_version": "1.2.0",
            "_view_name": "LayoutView",
            "align_content": null,
            "align_items": null,
            "align_self": null,
            "border": null,
            "bottom": null,
            "display": null,
            "flex": null,
            "flex_flow": null,
            "grid_area": null,
            "grid_auto_columns": null,
            "grid_auto_flow": null,
            "grid_auto_rows": null,
            "grid_column": null,
            "grid_gap": null,
            "grid_row": null,
            "grid_template_areas": null,
            "grid_template_columns": null,
            "grid_template_rows": null,
            "height": null,
            "justify_content": null,
            "justify_items": null,
            "left": null,
            "margin": null,
            "max_height": null,
            "max_width": null,
            "min_height": null,
            "min_width": null,
            "object_fit": null,
            "object_position": null,
            "order": null,
            "overflow": null,
            "overflow_x": null,
            "overflow_y": null,
            "padding": null,
            "right": null,
            "top": null,
            "visibility": null,
            "width": null
          }
        },
        "3427952627d14f169fd4b5b722d12613": {
          "model_module": "@jupyter-widgets/controls",
          "model_module_version": "1.5.0",
          "model_name": "DescriptionStyleModel",
          "state": {
            "_model_module": "@jupyter-widgets/controls",
            "_model_module_version": "1.5.0",
            "_model_name": "DescriptionStyleModel",
            "_view_count": null,
            "_view_module": "@jupyter-widgets/base",
            "_view_module_version": "1.2.0",
            "_view_name": "StyleView",
            "description_width": ""
          }
        },
        "352088445b6b43b9af4ca9c6cc4383c5": {
          "model_module": "@jupyter-widgets/controls",
          "model_module_version": "1.5.0",
          "model_name": "ProgressStyleModel",
          "state": {
            "_model_module": "@jupyter-widgets/controls",
            "_model_module_version": "1.5.0",
            "_model_name": "ProgressStyleModel",
            "_view_count": null,
            "_view_module": "@jupyter-widgets/base",
            "_view_module_version": "1.2.0",
            "_view_name": "StyleView",
            "bar_color": null,
            "description_width": ""
          }
        },
        "37f7f26327d6462f9ef3c14de09dc0fe": {
          "model_module": "@jupyter-widgets/controls",
          "model_module_version": "1.5.0",
          "model_name": "HBoxModel",
          "state": {
            "_dom_classes": [],
            "_model_module": "@jupyter-widgets/controls",
            "_model_module_version": "1.5.0",
            "_model_name": "HBoxModel",
            "_view_count": null,
            "_view_module": "@jupyter-widgets/controls",
            "_view_module_version": "1.5.0",
            "_view_name": "HBoxView",
            "box_style": "",
            "children": [
              "IPY_MODEL_1824296e63374944be78adfb49385054",
              "IPY_MODEL_f03887d9cbbb4f92a4c1b458c0598f46",
              "IPY_MODEL_7dd2f44137d44fe798c9669d37033748"
            ],
            "layout": "IPY_MODEL_69c5ca97111d4aa9acaa671d44a63624"
          }
        },
        "39a21969c7284b62a76ba53143c89e7d": {
          "model_module": "@jupyter-widgets/controls",
          "model_module_version": "1.5.0",
          "model_name": "FloatProgressModel",
          "state": {
            "_dom_classes": [],
            "_model_module": "@jupyter-widgets/controls",
            "_model_module_version": "1.5.0",
            "_model_name": "FloatProgressModel",
            "_view_count": null,
            "_view_module": "@jupyter-widgets/controls",
            "_view_module_version": "1.5.0",
            "_view_name": "ProgressView",
            "bar_style": "",
            "description": "",
            "description_tooltip": null,
            "layout": "IPY_MODEL_a62a2ed729454051ae67cf258567960b",
            "max": 26032,
            "min": 0,
            "orientation": "horizontal",
            "style": "IPY_MODEL_0c6fad4aeaea4521b9566d213d9dbf33",
            "value": 26032
          }
        },
        "3a0c84fdcbb94ea59e15ac7599adf7aa": {
          "model_module": "@jupyter-widgets/controls",
          "model_module_version": "1.5.0",
          "model_name": "ProgressStyleModel",
          "state": {
            "_model_module": "@jupyter-widgets/controls",
            "_model_module_version": "1.5.0",
            "_model_name": "ProgressStyleModel",
            "_view_count": null,
            "_view_module": "@jupyter-widgets/base",
            "_view_module_version": "1.2.0",
            "_view_name": "StyleView",
            "bar_color": null,
            "description_width": ""
          }
        },
        "3bb69d6a049f4e0fbc956529f0bad525": {
          "model_module": "@jupyter-widgets/controls",
          "model_module_version": "1.5.0",
          "model_name": "DescriptionStyleModel",
          "state": {
            "_model_module": "@jupyter-widgets/controls",
            "_model_module_version": "1.5.0",
            "_model_name": "DescriptionStyleModel",
            "_view_count": null,
            "_view_module": "@jupyter-widgets/base",
            "_view_module_version": "1.2.0",
            "_view_name": "StyleView",
            "description_width": ""
          }
        },
        "3e80f6fe5d8d41b79a4e3acfb505beff": {
          "model_module": "@jupyter-widgets/controls",
          "model_module_version": "1.5.0",
          "model_name": "DescriptionStyleModel",
          "state": {
            "_model_module": "@jupyter-widgets/controls",
            "_model_module_version": "1.5.0",
            "_model_name": "DescriptionStyleModel",
            "_view_count": null,
            "_view_module": "@jupyter-widgets/base",
            "_view_module_version": "1.2.0",
            "_view_name": "StyleView",
            "description_width": ""
          }
        },
        "3fec909a0dc7463396356ac56c012016": {
          "model_module": "@jupyter-widgets/base",
          "model_module_version": "1.2.0",
          "model_name": "LayoutModel",
          "state": {
            "_model_module": "@jupyter-widgets/base",
            "_model_module_version": "1.2.0",
            "_model_name": "LayoutModel",
            "_view_count": null,
            "_view_module": "@jupyter-widgets/base",
            "_view_module_version": "1.2.0",
            "_view_name": "LayoutView",
            "align_content": null,
            "align_items": null,
            "align_self": null,
            "border": null,
            "bottom": null,
            "display": null,
            "flex": null,
            "flex_flow": null,
            "grid_area": null,
            "grid_auto_columns": null,
            "grid_auto_flow": null,
            "grid_auto_rows": null,
            "grid_column": null,
            "grid_gap": null,
            "grid_row": null,
            "grid_template_areas": null,
            "grid_template_columns": null,
            "grid_template_rows": null,
            "height": null,
            "justify_content": null,
            "justify_items": null,
            "left": null,
            "margin": null,
            "max_height": null,
            "max_width": null,
            "min_height": null,
            "min_width": null,
            "object_fit": null,
            "object_position": null,
            "order": null,
            "overflow": null,
            "overflow_x": null,
            "overflow_y": null,
            "padding": null,
            "right": null,
            "top": null,
            "visibility": null,
            "width": null
          }
        },
        "43552afec13c4a8a888693c6dbfe69a6": {
          "model_module": "@jupyter-widgets/base",
          "model_module_version": "1.2.0",
          "model_name": "LayoutModel",
          "state": {
            "_model_module": "@jupyter-widgets/base",
            "_model_module_version": "1.2.0",
            "_model_name": "LayoutModel",
            "_view_count": null,
            "_view_module": "@jupyter-widgets/base",
            "_view_module_version": "1.2.0",
            "_view_name": "LayoutView",
            "align_content": null,
            "align_items": null,
            "align_self": null,
            "border": null,
            "bottom": null,
            "display": null,
            "flex": null,
            "flex_flow": null,
            "grid_area": null,
            "grid_auto_columns": null,
            "grid_auto_flow": null,
            "grid_auto_rows": null,
            "grid_column": null,
            "grid_gap": null,
            "grid_row": null,
            "grid_template_areas": null,
            "grid_template_columns": null,
            "grid_template_rows": null,
            "height": null,
            "justify_content": null,
            "justify_items": null,
            "left": null,
            "margin": null,
            "max_height": null,
            "max_width": null,
            "min_height": null,
            "min_width": null,
            "object_fit": null,
            "object_position": null,
            "order": null,
            "overflow": null,
            "overflow_x": null,
            "overflow_y": null,
            "padding": null,
            "right": null,
            "top": null,
            "visibility": null,
            "width": null
          }
        },
        "450d47b1ccd444b89ec9624d1a1785b6": {
          "model_module": "@jupyter-widgets/controls",
          "model_module_version": "1.5.0",
          "model_name": "DescriptionStyleModel",
          "state": {
            "_model_module": "@jupyter-widgets/controls",
            "_model_module_version": "1.5.0",
            "_model_name": "DescriptionStyleModel",
            "_view_count": null,
            "_view_module": "@jupyter-widgets/base",
            "_view_module_version": "1.2.0",
            "_view_name": "StyleView",
            "description_width": ""
          }
        },
        "4678a8a8fc434d189b352fda9801be9e": {
          "model_module": "@jupyter-widgets/controls",
          "model_module_version": "1.5.0",
          "model_name": "ProgressStyleModel",
          "state": {
            "_model_module": "@jupyter-widgets/controls",
            "_model_module_version": "1.5.0",
            "_model_name": "ProgressStyleModel",
            "_view_count": null,
            "_view_module": "@jupyter-widgets/base",
            "_view_module_version": "1.2.0",
            "_view_name": "StyleView",
            "bar_color": null,
            "description_width": ""
          }
        },
        "488e1bb72e6e46df96be91a77598bf3a": {
          "model_module": "@jupyter-widgets/controls",
          "model_module_version": "1.5.0",
          "model_name": "HBoxModel",
          "state": {
            "_dom_classes": [],
            "_model_module": "@jupyter-widgets/controls",
            "_model_module_version": "1.5.0",
            "_model_name": "HBoxModel",
            "_view_count": null,
            "_view_module": "@jupyter-widgets/controls",
            "_view_module_version": "1.5.0",
            "_view_name": "HBoxView",
            "box_style": "",
            "children": [
              "IPY_MODEL_99bfd8dbebc34d80ac2c2e5c7ba846f9",
              "IPY_MODEL_4fa1815ac4c3441bb7d2e6bcbbdfa0be",
              "IPY_MODEL_a61f49b7489843749a12d6778aa55176"
            ],
            "layout": "IPY_MODEL_fddd68964b2f4d7f8dc7651fab56de5d"
          }
        },
        "4c77b44007964f1d9a34468e6f02adc1": {
          "model_module": "@jupyter-widgets/controls",
          "model_module_version": "1.5.0",
          "model_name": "HTMLModel",
          "state": {
            "_dom_classes": [],
            "_model_module": "@jupyter-widgets/controls",
            "_model_module_version": "1.5.0",
            "_model_name": "HTMLModel",
            "_view_count": null,
            "_view_module": "@jupyter-widgets/controls",
            "_view_module_version": "1.5.0",
            "_view_name": "HTMLView",
            "description": "",
            "description_tooltip": null,
            "layout": "IPY_MODEL_eeb6a565179c4e31970aa1073cdd944c",
            "placeholder": "​",
            "style": "IPY_MODEL_3e80f6fe5d8d41b79a4e3acfb505beff",
            "value": " 72288/73257 [01:04&lt;00:00, 1233.22 examples/s]"
          }
        },
        "4c9896fb64344ddbb4d5f5cc2e69daca": {
          "model_module": "@jupyter-widgets/controls",
          "model_module_version": "1.5.0",
          "model_name": "DescriptionStyleModel",
          "state": {
            "_model_module": "@jupyter-widgets/controls",
            "_model_module_version": "1.5.0",
            "_model_name": "DescriptionStyleModel",
            "_view_count": null,
            "_view_module": "@jupyter-widgets/base",
            "_view_module_version": "1.2.0",
            "_view_name": "StyleView",
            "description_width": ""
          }
        },
        "4fa1815ac4c3441bb7d2e6bcbbdfa0be": {
          "model_module": "@jupyter-widgets/controls",
          "model_module_version": "1.5.0",
          "model_name": "FloatProgressModel",
          "state": {
            "_dom_classes": [],
            "_model_module": "@jupyter-widgets/controls",
            "_model_module_version": "1.5.0",
            "_model_name": "FloatProgressModel",
            "_view_count": null,
            "_view_module": "@jupyter-widgets/controls",
            "_view_module_version": "1.5.0",
            "_view_name": "ProgressView",
            "bar_style": "",
            "description": "",
            "description_tooltip": null,
            "layout": "IPY_MODEL_6ce1d60d4466448bb153e7b2330ff448",
            "max": 3,
            "min": 0,
            "orientation": "horizontal",
            "style": "IPY_MODEL_3a0c84fdcbb94ea59e15ac7599adf7aa",
            "value": 3
          }
        },
        "50b16b1dd5404416aef52ac028a79352": {
          "model_module": "@jupyter-widgets/base",
          "model_module_version": "1.2.0",
          "model_name": "LayoutModel",
          "state": {
            "_model_module": "@jupyter-widgets/base",
            "_model_module_version": "1.2.0",
            "_model_name": "LayoutModel",
            "_view_count": null,
            "_view_module": "@jupyter-widgets/base",
            "_view_module_version": "1.2.0",
            "_view_name": "LayoutView",
            "align_content": null,
            "align_items": null,
            "align_self": null,
            "border": null,
            "bottom": null,
            "display": null,
            "flex": null,
            "flex_flow": null,
            "grid_area": null,
            "grid_auto_columns": null,
            "grid_auto_flow": null,
            "grid_auto_rows": null,
            "grid_column": null,
            "grid_gap": null,
            "grid_row": null,
            "grid_template_areas": null,
            "grid_template_columns": null,
            "grid_template_rows": null,
            "height": null,
            "justify_content": null,
            "justify_items": null,
            "left": null,
            "margin": null,
            "max_height": null,
            "max_width": null,
            "min_height": null,
            "min_width": null,
            "object_fit": null,
            "object_position": null,
            "order": null,
            "overflow": null,
            "overflow_x": null,
            "overflow_y": null,
            "padding": null,
            "right": null,
            "top": null,
            "visibility": null,
            "width": null
          }
        },
        "51cc61034be34863a218930dc37e880f": {
          "model_module": "@jupyter-widgets/controls",
          "model_module_version": "1.5.0",
          "model_name": "HTMLModel",
          "state": {
            "_dom_classes": [],
            "_model_module": "@jupyter-widgets/controls",
            "_model_module_version": "1.5.0",
            "_model_name": "HTMLModel",
            "_view_count": null,
            "_view_module": "@jupyter-widgets/controls",
            "_view_module_version": "1.5.0",
            "_view_name": "HTMLView",
            "description": "",
            "description_tooltip": null,
            "layout": "IPY_MODEL_78ec81168c834bf498fa1a042c0b0c34",
            "placeholder": "​",
            "style": "IPY_MODEL_d83cf4acf1a34e1d8ce2e233a768b85a",
            "value": " 520273/531131 [00:11&lt;00:00, 103202.99 examples/s]"
          }
        },
        "51e93ac2400142658d842846f2b0145e": {
          "model_module": "@jupyter-widgets/controls",
          "model_module_version": "1.5.0",
          "model_name": "ProgressStyleModel",
          "state": {
            "_model_module": "@jupyter-widgets/controls",
            "_model_module_version": "1.5.0",
            "_model_name": "ProgressStyleModel",
            "_view_count": null,
            "_view_module": "@jupyter-widgets/base",
            "_view_module_version": "1.2.0",
            "_view_name": "StyleView",
            "bar_color": null,
            "description_width": ""
          }
        },
        "52f36aa9590240f2a901aa14765d1db4": {
          "model_module": "@jupyter-widgets/controls",
          "model_module_version": "1.5.0",
          "model_name": "ProgressStyleModel",
          "state": {
            "_model_module": "@jupyter-widgets/controls",
            "_model_module_version": "1.5.0",
            "_model_name": "ProgressStyleModel",
            "_view_count": null,
            "_view_module": "@jupyter-widgets/base",
            "_view_module_version": "1.2.0",
            "_view_name": "StyleView",
            "bar_color": null,
            "description_width": ""
          }
        },
        "54874e14f9ff4bec8497d0754db660f9": {
          "model_module": "@jupyter-widgets/base",
          "model_module_version": "1.2.0",
          "model_name": "LayoutModel",
          "state": {
            "_model_module": "@jupyter-widgets/base",
            "_model_module_version": "1.2.0",
            "_model_name": "LayoutModel",
            "_view_count": null,
            "_view_module": "@jupyter-widgets/base",
            "_view_module_version": "1.2.0",
            "_view_name": "LayoutView",
            "align_content": null,
            "align_items": null,
            "align_self": null,
            "border": null,
            "bottom": null,
            "display": null,
            "flex": null,
            "flex_flow": null,
            "grid_area": null,
            "grid_auto_columns": null,
            "grid_auto_flow": null,
            "grid_auto_rows": null,
            "grid_column": null,
            "grid_gap": null,
            "grid_row": null,
            "grid_template_areas": null,
            "grid_template_columns": null,
            "grid_template_rows": null,
            "height": null,
            "justify_content": null,
            "justify_items": null,
            "left": null,
            "margin": null,
            "max_height": null,
            "max_width": null,
            "min_height": null,
            "min_width": null,
            "object_fit": null,
            "object_position": null,
            "order": null,
            "overflow": null,
            "overflow_x": null,
            "overflow_y": null,
            "padding": null,
            "right": null,
            "top": null,
            "visibility": null,
            "width": "20px"
          }
        },
        "55575a7e0bb3460d95512f58d1b4115e": {
          "model_module": "@jupyter-widgets/controls",
          "model_module_version": "1.5.0",
          "model_name": "FloatProgressModel",
          "state": {
            "_dom_classes": [],
            "_model_module": "@jupyter-widgets/controls",
            "_model_module_version": "1.5.0",
            "_model_name": "FloatProgressModel",
            "_view_count": null,
            "_view_module": "@jupyter-widgets/controls",
            "_view_module_version": "1.5.0",
            "_view_name": "ProgressView",
            "bar_style": "",
            "description": "",
            "description_tooltip": null,
            "layout": "IPY_MODEL_76a2be76c1f64d4094c4aaf5bd786b1f",
            "max": 73257,
            "min": 0,
            "orientation": "horizontal",
            "style": "IPY_MODEL_4678a8a8fc434d189b352fda9801be9e",
            "value": 73257
          }
        },
        "577efab05fde4547b59e4d2c0696a454": {
          "model_module": "@jupyter-widgets/controls",
          "model_module_version": "1.5.0",
          "model_name": "ProgressStyleModel",
          "state": {
            "_model_module": "@jupyter-widgets/controls",
            "_model_module_version": "1.5.0",
            "_model_name": "ProgressStyleModel",
            "_view_count": null,
            "_view_module": "@jupyter-widgets/base",
            "_view_module_version": "1.2.0",
            "_view_name": "StyleView",
            "bar_color": null,
            "description_width": ""
          }
        },
        "5849a8269be943fcaf77b25abcfaabbb": {
          "model_module": "@jupyter-widgets/controls",
          "model_module_version": "1.5.0",
          "model_name": "DescriptionStyleModel",
          "state": {
            "_model_module": "@jupyter-widgets/controls",
            "_model_module_version": "1.5.0",
            "_model_name": "DescriptionStyleModel",
            "_view_count": null,
            "_view_module": "@jupyter-widgets/base",
            "_view_module_version": "1.2.0",
            "_view_name": "StyleView",
            "description_width": ""
          }
        },
        "58c4701905c44952897c260015fa1509": {
          "model_module": "@jupyter-widgets/controls",
          "model_module_version": "1.5.0",
          "model_name": "HBoxModel",
          "state": {
            "_dom_classes": [],
            "_model_module": "@jupyter-widgets/controls",
            "_model_module_version": "1.5.0",
            "_model_name": "HBoxModel",
            "_view_count": null,
            "_view_module": "@jupyter-widgets/controls",
            "_view_module_version": "1.5.0",
            "_view_name": "HBoxView",
            "box_style": "",
            "children": [
              "IPY_MODEL_1b18a364508f478692c46803391b27b1",
              "IPY_MODEL_39a21969c7284b62a76ba53143c89e7d",
              "IPY_MODEL_9da2fa0a70624f049040c35d0348b9bc"
            ],
            "layout": "IPY_MODEL_928096bdfe7043fe8bb0ff2b681c402d"
          }
        },
        "5d38929b881b440793cf04e32a2d4066": {
          "model_module": "@jupyter-widgets/controls",
          "model_module_version": "1.5.0",
          "model_name": "HBoxModel",
          "state": {
            "_dom_classes": [],
            "_model_module": "@jupyter-widgets/controls",
            "_model_module_version": "1.5.0",
            "_model_name": "HBoxModel",
            "_view_count": null,
            "_view_module": "@jupyter-widgets/controls",
            "_view_module_version": "1.5.0",
            "_view_name": "HBoxView",
            "box_style": "",
            "children": [
              "IPY_MODEL_a2dff39819de492b912fc6ef258f5a15",
              "IPY_MODEL_69d9047e09f54d61ba9d9ac78cf27fce",
              "IPY_MODEL_cdd9ca7c55fe42d9929d942b17752075"
            ],
            "layout": "IPY_MODEL_2feaced150f94e3db2d528b81292238b"
          }
        },
        "600e899fb35e48adb1aeb10c60f33a84": {
          "model_module": "@jupyter-widgets/controls",
          "model_module_version": "1.5.0",
          "model_name": "HTMLModel",
          "state": {
            "_dom_classes": [],
            "_model_module": "@jupyter-widgets/controls",
            "_model_module_version": "1.5.0",
            "_model_name": "HTMLModel",
            "_view_count": null,
            "_view_module": "@jupyter-widgets/controls",
            "_view_module_version": "1.5.0",
            "_view_name": "HTMLView",
            "description": "",
            "description_tooltip": null,
            "layout": "IPY_MODEL_43552afec13c4a8a888693c6dbfe69a6",
            "placeholder": "​",
            "style": "IPY_MODEL_6220db00c02a42a1b1135ed76acb57a1",
            "value": " 3/3 [02:35&lt;00:00, 65.61s/ url]"
          }
        },
        "6220db00c02a42a1b1135ed76acb57a1": {
          "model_module": "@jupyter-widgets/controls",
          "model_module_version": "1.5.0",
          "model_name": "DescriptionStyleModel",
          "state": {
            "_model_module": "@jupyter-widgets/controls",
            "_model_module_version": "1.5.0",
            "_model_name": "DescriptionStyleModel",
            "_view_count": null,
            "_view_module": "@jupyter-widgets/base",
            "_view_module_version": "1.2.0",
            "_view_name": "StyleView",
            "description_width": ""
          }
        },
        "632a1b03c47247448f3794484237e679": {
          "model_module": "@jupyter-widgets/controls",
          "model_module_version": "1.5.0",
          "model_name": "DescriptionStyleModel",
          "state": {
            "_model_module": "@jupyter-widgets/controls",
            "_model_module_version": "1.5.0",
            "_model_name": "DescriptionStyleModel",
            "_view_count": null,
            "_view_module": "@jupyter-widgets/base",
            "_view_module_version": "1.2.0",
            "_view_name": "StyleView",
            "description_width": ""
          }
        },
        "67cf06cce00f40659bd413d01f361825": {
          "model_module": "@jupyter-widgets/controls",
          "model_module_version": "1.5.0",
          "model_name": "HTMLModel",
          "state": {
            "_dom_classes": [],
            "_model_module": "@jupyter-widgets/controls",
            "_model_module_version": "1.5.0",
            "_model_name": "HTMLModel",
            "_view_count": null,
            "_view_module": "@jupyter-widgets/controls",
            "_view_module_version": "1.5.0",
            "_view_name": "HTMLView",
            "description": "",
            "description_tooltip": null,
            "layout": "IPY_MODEL_a5ec4746d4ad438bb9a59d61aef23615",
            "placeholder": "​",
            "style": "IPY_MODEL_6faaeca74229495c88e1405346f3319a",
            "value": "Generating train examples...:  99%"
          }
        },
        "68d493d07b75448d9c0b68dac6cb837e": {
          "model_module": "@jupyter-widgets/base",
          "model_module_version": "1.2.0",
          "model_name": "LayoutModel",
          "state": {
            "_model_module": "@jupyter-widgets/base",
            "_model_module_version": "1.2.0",
            "_model_name": "LayoutModel",
            "_view_count": null,
            "_view_module": "@jupyter-widgets/base",
            "_view_module_version": "1.2.0",
            "_view_name": "LayoutView",
            "align_content": null,
            "align_items": null,
            "align_self": null,
            "border": null,
            "bottom": null,
            "display": null,
            "flex": null,
            "flex_flow": null,
            "grid_area": null,
            "grid_auto_columns": null,
            "grid_auto_flow": null,
            "grid_auto_rows": null,
            "grid_column": null,
            "grid_gap": null,
            "grid_row": null,
            "grid_template_areas": null,
            "grid_template_columns": null,
            "grid_template_rows": null,
            "height": null,
            "justify_content": null,
            "justify_items": null,
            "left": null,
            "margin": null,
            "max_height": null,
            "max_width": null,
            "min_height": null,
            "min_width": null,
            "object_fit": null,
            "object_position": null,
            "order": null,
            "overflow": null,
            "overflow_x": null,
            "overflow_y": null,
            "padding": null,
            "right": null,
            "top": null,
            "visibility": null,
            "width": null
          }
        },
        "698ecdd35e524d358ad11e0a95f2a9ea": {
          "model_module": "@jupyter-widgets/base",
          "model_module_version": "1.2.0",
          "model_name": "LayoutModel",
          "state": {
            "_model_module": "@jupyter-widgets/base",
            "_model_module_version": "1.2.0",
            "_model_name": "LayoutModel",
            "_view_count": null,
            "_view_module": "@jupyter-widgets/base",
            "_view_module_version": "1.2.0",
            "_view_name": "LayoutView",
            "align_content": null,
            "align_items": null,
            "align_self": null,
            "border": null,
            "bottom": null,
            "display": null,
            "flex": null,
            "flex_flow": null,
            "grid_area": null,
            "grid_auto_columns": null,
            "grid_auto_flow": null,
            "grid_auto_rows": null,
            "grid_column": null,
            "grid_gap": null,
            "grid_row": null,
            "grid_template_areas": null,
            "grid_template_columns": null,
            "grid_template_rows": null,
            "height": null,
            "justify_content": null,
            "justify_items": null,
            "left": null,
            "margin": null,
            "max_height": null,
            "max_width": null,
            "min_height": null,
            "min_width": null,
            "object_fit": null,
            "object_position": null,
            "order": null,
            "overflow": null,
            "overflow_x": null,
            "overflow_y": null,
            "padding": null,
            "right": null,
            "top": null,
            "visibility": null,
            "width": null
          }
        },
        "69c5ca97111d4aa9acaa671d44a63624": {
          "model_module": "@jupyter-widgets/base",
          "model_module_version": "1.2.0",
          "model_name": "LayoutModel",
          "state": {
            "_model_module": "@jupyter-widgets/base",
            "_model_module_version": "1.2.0",
            "_model_name": "LayoutModel",
            "_view_count": null,
            "_view_module": "@jupyter-widgets/base",
            "_view_module_version": "1.2.0",
            "_view_name": "LayoutView",
            "align_content": null,
            "align_items": null,
            "align_self": null,
            "border": null,
            "bottom": null,
            "display": null,
            "flex": null,
            "flex_flow": null,
            "grid_area": null,
            "grid_auto_columns": null,
            "grid_auto_flow": null,
            "grid_auto_rows": null,
            "grid_column": null,
            "grid_gap": null,
            "grid_row": null,
            "grid_template_areas": null,
            "grid_template_columns": null,
            "grid_template_rows": null,
            "height": null,
            "justify_content": null,
            "justify_items": null,
            "left": null,
            "margin": null,
            "max_height": null,
            "max_width": null,
            "min_height": null,
            "min_width": null,
            "object_fit": null,
            "object_position": null,
            "order": null,
            "overflow": null,
            "overflow_x": null,
            "overflow_y": null,
            "padding": null,
            "right": null,
            "top": null,
            "visibility": "hidden",
            "width": null
          }
        },
        "69d9047e09f54d61ba9d9ac78cf27fce": {
          "model_module": "@jupyter-widgets/controls",
          "model_module_version": "1.5.0",
          "model_name": "FloatProgressModel",
          "state": {
            "_dom_classes": [],
            "_model_module": "@jupyter-widgets/controls",
            "_model_module_version": "1.5.0",
            "_model_name": "FloatProgressModel",
            "_view_count": null,
            "_view_module": "@jupyter-widgets/controls",
            "_view_module_version": "1.5.0",
            "_view_name": "ProgressView",
            "bar_style": "",
            "description": "",
            "description_tooltip": null,
            "layout": "IPY_MODEL_cb97a7a497774652926350f37cf11c7e",
            "max": 531131,
            "min": 0,
            "orientation": "horizontal",
            "style": "IPY_MODEL_352088445b6b43b9af4ca9c6cc4383c5",
            "value": 531131
          }
        },
        "6b783d88ea5b415b994ce02f396ca93c": {
          "model_module": "@jupyter-widgets/controls",
          "model_module_version": "1.5.0",
          "model_name": "HTMLModel",
          "state": {
            "_dom_classes": [],
            "_model_module": "@jupyter-widgets/controls",
            "_model_module_version": "1.5.0",
            "_model_name": "HTMLModel",
            "_view_count": null,
            "_view_module": "@jupyter-widgets/controls",
            "_view_module_version": "1.5.0",
            "_view_name": "HTMLView",
            "description": "",
            "description_tooltip": null,
            "layout": "IPY_MODEL_3338ae09aae14f528edd32c140449016",
            "placeholder": "​",
            "style": "IPY_MODEL_f927a044003e439dab02f5c64963b230",
            "value": "Dl Completed...: 100%"
          }
        },
        "6ce1d60d4466448bb153e7b2330ff448": {
          "model_module": "@jupyter-widgets/base",
          "model_module_version": "1.2.0",
          "model_name": "LayoutModel",
          "state": {
            "_model_module": "@jupyter-widgets/base",
            "_model_module_version": "1.2.0",
            "_model_name": "LayoutModel",
            "_view_count": null,
            "_view_module": "@jupyter-widgets/base",
            "_view_module_version": "1.2.0",
            "_view_name": "LayoutView",
            "align_content": null,
            "align_items": null,
            "align_self": null,
            "border": null,
            "bottom": null,
            "display": null,
            "flex": null,
            "flex_flow": null,
            "grid_area": null,
            "grid_auto_columns": null,
            "grid_auto_flow": null,
            "grid_auto_rows": null,
            "grid_column": null,
            "grid_gap": null,
            "grid_row": null,
            "grid_template_areas": null,
            "grid_template_columns": null,
            "grid_template_rows": null,
            "height": null,
            "justify_content": null,
            "justify_items": null,
            "left": null,
            "margin": null,
            "max_height": null,
            "max_width": null,
            "min_height": null,
            "min_width": null,
            "object_fit": null,
            "object_position": null,
            "order": null,
            "overflow": null,
            "overflow_x": null,
            "overflow_y": null,
            "padding": null,
            "right": null,
            "top": null,
            "visibility": null,
            "width": null
          }
        },
        "6f166fa52a2d4b81b89f6d89eeeb2e2f": {
          "model_module": "@jupyter-widgets/controls",
          "model_module_version": "1.5.0",
          "model_name": "HTMLModel",
          "state": {
            "_dom_classes": [],
            "_model_module": "@jupyter-widgets/controls",
            "_model_module_version": "1.5.0",
            "_model_name": "HTMLModel",
            "_view_count": null,
            "_view_module": "@jupyter-widgets/controls",
            "_view_module_version": "1.5.0",
            "_view_name": "HTMLView",
            "description": "",
            "description_tooltip": null,
            "layout": "IPY_MODEL_d341fa3ca44746ed81d539afd5e0a55d",
            "placeholder": "​",
            "style": "IPY_MODEL_450d47b1ccd444b89ec9624d1a1785b6",
            "value": "Shuffling /root/tensorflow_datasets/svhn_cropped/3.0.0.incomplete2YGHJT/svhn_cropped-extra.tfrecord*...:  98%"
          }
        },
        "6faaeca74229495c88e1405346f3319a": {
          "model_module": "@jupyter-widgets/controls",
          "model_module_version": "1.5.0",
          "model_name": "DescriptionStyleModel",
          "state": {
            "_model_module": "@jupyter-widgets/controls",
            "_model_module_version": "1.5.0",
            "_model_name": "DescriptionStyleModel",
            "_view_count": null,
            "_view_module": "@jupyter-widgets/base",
            "_view_module_version": "1.2.0",
            "_view_name": "StyleView",
            "description_width": ""
          }
        },
        "6fd0441a0db8417c86bd33078af8222f": {
          "model_module": "@jupyter-widgets/controls",
          "model_module_version": "1.5.0",
          "model_name": "DescriptionStyleModel",
          "state": {
            "_model_module": "@jupyter-widgets/controls",
            "_model_module_version": "1.5.0",
            "_model_name": "DescriptionStyleModel",
            "_view_count": null,
            "_view_module": "@jupyter-widgets/base",
            "_view_module_version": "1.2.0",
            "_view_name": "StyleView",
            "description_width": ""
          }
        },
        "739da404597e44859584c9bf16541a2e": {
          "model_module": "@jupyter-widgets/controls",
          "model_module_version": "1.5.0",
          "model_name": "HBoxModel",
          "state": {
            "_dom_classes": [],
            "_model_module": "@jupyter-widgets/controls",
            "_model_module_version": "1.5.0",
            "_model_name": "HBoxModel",
            "_view_count": null,
            "_view_module": "@jupyter-widgets/controls",
            "_view_module_version": "1.5.0",
            "_view_name": "HBoxView",
            "box_style": "",
            "children": [
              "IPY_MODEL_67cf06cce00f40659bd413d01f361825",
              "IPY_MODEL_7454e9641a96440fb02cd0c10d62a369",
              "IPY_MODEL_4c77b44007964f1d9a34468e6f02adc1"
            ],
            "layout": "IPY_MODEL_f07965ebe219455f816c40c3e132c9bf"
          }
        },
        "7454e9641a96440fb02cd0c10d62a369": {
          "model_module": "@jupyter-widgets/controls",
          "model_module_version": "1.5.0",
          "model_name": "FloatProgressModel",
          "state": {
            "_dom_classes": [],
            "_model_module": "@jupyter-widgets/controls",
            "_model_module_version": "1.5.0",
            "_model_name": "FloatProgressModel",
            "_view_count": null,
            "_view_module": "@jupyter-widgets/controls",
            "_view_module_version": "1.5.0",
            "_view_name": "ProgressView",
            "bar_style": "",
            "description": "",
            "description_tooltip": null,
            "layout": "IPY_MODEL_a31d2a17789c46fd842dd501fd489360",
            "max": 73257,
            "min": 0,
            "orientation": "horizontal",
            "style": "IPY_MODEL_8021ff912d954d4e8bc267f5d987f2a2",
            "value": 73257
          }
        },
        "76a2be76c1f64d4094c4aaf5bd786b1f": {
          "model_module": "@jupyter-widgets/base",
          "model_module_version": "1.2.0",
          "model_name": "LayoutModel",
          "state": {
            "_model_module": "@jupyter-widgets/base",
            "_model_module_version": "1.2.0",
            "_model_name": "LayoutModel",
            "_view_count": null,
            "_view_module": "@jupyter-widgets/base",
            "_view_module_version": "1.2.0",
            "_view_name": "LayoutView",
            "align_content": null,
            "align_items": null,
            "align_self": null,
            "border": null,
            "bottom": null,
            "display": null,
            "flex": null,
            "flex_flow": null,
            "grid_area": null,
            "grid_auto_columns": null,
            "grid_auto_flow": null,
            "grid_auto_rows": null,
            "grid_column": null,
            "grid_gap": null,
            "grid_row": null,
            "grid_template_areas": null,
            "grid_template_columns": null,
            "grid_template_rows": null,
            "height": null,
            "justify_content": null,
            "justify_items": null,
            "left": null,
            "margin": null,
            "max_height": null,
            "max_width": null,
            "min_height": null,
            "min_width": null,
            "object_fit": null,
            "object_position": null,
            "order": null,
            "overflow": null,
            "overflow_x": null,
            "overflow_y": null,
            "padding": null,
            "right": null,
            "top": null,
            "visibility": null,
            "width": null
          }
        },
        "77cd532fb2124004b48e4a9db13232a8": {
          "model_module": "@jupyter-widgets/controls",
          "model_module_version": "1.5.0",
          "model_name": "HBoxModel",
          "state": {
            "_dom_classes": [],
            "_model_module": "@jupyter-widgets/controls",
            "_model_module_version": "1.5.0",
            "_model_name": "HBoxModel",
            "_view_count": null,
            "_view_module": "@jupyter-widgets/controls",
            "_view_module_version": "1.5.0",
            "_view_name": "HBoxView",
            "box_style": "",
            "children": [
              "IPY_MODEL_9c6f90abfdd4477c9d9faddc67a2ec64",
              "IPY_MODEL_a171c65628be47fdb1ccb8fdd45457cc",
              "IPY_MODEL_ef39fea841514d3cad1aa9b146492636"
            ],
            "layout": "IPY_MODEL_50b16b1dd5404416aef52ac028a79352"
          }
        },
        "78ec81168c834bf498fa1a042c0b0c34": {
          "model_module": "@jupyter-widgets/base",
          "model_module_version": "1.2.0",
          "model_name": "LayoutModel",
          "state": {
            "_model_module": "@jupyter-widgets/base",
            "_model_module_version": "1.2.0",
            "_model_name": "LayoutModel",
            "_view_count": null,
            "_view_module": "@jupyter-widgets/base",
            "_view_module_version": "1.2.0",
            "_view_name": "LayoutView",
            "align_content": null,
            "align_items": null,
            "align_self": null,
            "border": null,
            "bottom": null,
            "display": null,
            "flex": null,
            "flex_flow": null,
            "grid_area": null,
            "grid_auto_columns": null,
            "grid_auto_flow": null,
            "grid_auto_rows": null,
            "grid_column": null,
            "grid_gap": null,
            "grid_row": null,
            "grid_template_areas": null,
            "grid_template_columns": null,
            "grid_template_rows": null,
            "height": null,
            "justify_content": null,
            "justify_items": null,
            "left": null,
            "margin": null,
            "max_height": null,
            "max_width": null,
            "min_height": null,
            "min_width": null,
            "object_fit": null,
            "object_position": null,
            "order": null,
            "overflow": null,
            "overflow_x": null,
            "overflow_y": null,
            "padding": null,
            "right": null,
            "top": null,
            "visibility": null,
            "width": null
          }
        },
        "7dd2f44137d44fe798c9669d37033748": {
          "model_module": "@jupyter-widgets/controls",
          "model_module_version": "1.5.0",
          "model_name": "HTMLModel",
          "state": {
            "_dom_classes": [],
            "_model_module": "@jupyter-widgets/controls",
            "_model_module_version": "1.5.0",
            "_model_name": "HTMLModel",
            "_view_count": null,
            "_view_module": "@jupyter-widgets/controls",
            "_view_module_version": "1.5.0",
            "_view_name": "HTMLView",
            "description": "",
            "description_tooltip": null,
            "layout": "IPY_MODEL_caac872db27643898ac7c7d98faa26ee",
            "placeholder": "​",
            "style": "IPY_MODEL_3bb69d6a049f4e0fbc956529f0bad525",
            "value": " 25180/26032 [00:21&lt;00:00, 1126.11 examples/s]"
          }
        },
        "8021ff912d954d4e8bc267f5d987f2a2": {
          "model_module": "@jupyter-widgets/controls",
          "model_module_version": "1.5.0",
          "model_name": "ProgressStyleModel",
          "state": {
            "_model_module": "@jupyter-widgets/controls",
            "_model_module_version": "1.5.0",
            "_model_name": "ProgressStyleModel",
            "_view_count": null,
            "_view_module": "@jupyter-widgets/base",
            "_view_module_version": "1.2.0",
            "_view_name": "StyleView",
            "bar_color": null,
            "description_width": ""
          }
        },
        "81637723504b4a89a1f3de3b320ba268": {
          "model_module": "@jupyter-widgets/controls",
          "model_module_version": "1.5.0",
          "model_name": "HBoxModel",
          "state": {
            "_dom_classes": [],
            "_model_module": "@jupyter-widgets/controls",
            "_model_module_version": "1.5.0",
            "_model_name": "HBoxModel",
            "_view_count": null,
            "_view_module": "@jupyter-widgets/controls",
            "_view_module_version": "1.5.0",
            "_view_name": "HBoxView",
            "box_style": "",
            "children": [
              "IPY_MODEL_ccf126d4612f4f85888b4c0b6e4a0993",
              "IPY_MODEL_55575a7e0bb3460d95512f58d1b4115e",
              "IPY_MODEL_e39582e8b93c43bbb0009e6b33a88dad"
            ],
            "layout": "IPY_MODEL_85d5d21f24b1498f83cc064e735ef772"
          }
        },
        "81a94aae937440c089021cb7bf0e7306": {
          "model_module": "@jupyter-widgets/controls",
          "model_module_version": "1.5.0",
          "model_name": "DescriptionStyleModel",
          "state": {
            "_model_module": "@jupyter-widgets/controls",
            "_model_module_version": "1.5.0",
            "_model_name": "DescriptionStyleModel",
            "_view_count": null,
            "_view_module": "@jupyter-widgets/base",
            "_view_module_version": "1.2.0",
            "_view_name": "StyleView",
            "description_width": ""
          }
        },
        "85d5d21f24b1498f83cc064e735ef772": {
          "model_module": "@jupyter-widgets/base",
          "model_module_version": "1.2.0",
          "model_name": "LayoutModel",
          "state": {
            "_model_module": "@jupyter-widgets/base",
            "_model_module_version": "1.2.0",
            "_model_name": "LayoutModel",
            "_view_count": null,
            "_view_module": "@jupyter-widgets/base",
            "_view_module_version": "1.2.0",
            "_view_name": "LayoutView",
            "align_content": null,
            "align_items": null,
            "align_self": null,
            "border": null,
            "bottom": null,
            "display": null,
            "flex": null,
            "flex_flow": null,
            "grid_area": null,
            "grid_auto_columns": null,
            "grid_auto_flow": null,
            "grid_auto_rows": null,
            "grid_column": null,
            "grid_gap": null,
            "grid_row": null,
            "grid_template_areas": null,
            "grid_template_columns": null,
            "grid_template_rows": null,
            "height": null,
            "justify_content": null,
            "justify_items": null,
            "left": null,
            "margin": null,
            "max_height": null,
            "max_width": null,
            "min_height": null,
            "min_width": null,
            "object_fit": null,
            "object_position": null,
            "order": null,
            "overflow": null,
            "overflow_x": null,
            "overflow_y": null,
            "padding": null,
            "right": null,
            "top": null,
            "visibility": "hidden",
            "width": null
          }
        },
        "8e85d6eaf2ed4fbc80488ce1a7f1041c": {
          "model_module": "@jupyter-widgets/controls",
          "model_module_version": "1.5.0",
          "model_name": "ProgressStyleModel",
          "state": {
            "_model_module": "@jupyter-widgets/controls",
            "_model_module_version": "1.5.0",
            "_model_name": "ProgressStyleModel",
            "_view_count": null,
            "_view_module": "@jupyter-widgets/base",
            "_view_module_version": "1.2.0",
            "_view_name": "StyleView",
            "bar_color": null,
            "description_width": ""
          }
        },
        "928096bdfe7043fe8bb0ff2b681c402d": {
          "model_module": "@jupyter-widgets/base",
          "model_module_version": "1.2.0",
          "model_name": "LayoutModel",
          "state": {
            "_model_module": "@jupyter-widgets/base",
            "_model_module_version": "1.2.0",
            "_model_name": "LayoutModel",
            "_view_count": null,
            "_view_module": "@jupyter-widgets/base",
            "_view_module_version": "1.2.0",
            "_view_name": "LayoutView",
            "align_content": null,
            "align_items": null,
            "align_self": null,
            "border": null,
            "bottom": null,
            "display": null,
            "flex": null,
            "flex_flow": null,
            "grid_area": null,
            "grid_auto_columns": null,
            "grid_auto_flow": null,
            "grid_auto_rows": null,
            "grid_column": null,
            "grid_gap": null,
            "grid_row": null,
            "grid_template_areas": null,
            "grid_template_columns": null,
            "grid_template_rows": null,
            "height": null,
            "justify_content": null,
            "justify_items": null,
            "left": null,
            "margin": null,
            "max_height": null,
            "max_width": null,
            "min_height": null,
            "min_width": null,
            "object_fit": null,
            "object_position": null,
            "order": null,
            "overflow": null,
            "overflow_x": null,
            "overflow_y": null,
            "padding": null,
            "right": null,
            "top": null,
            "visibility": "hidden",
            "width": null
          }
        },
        "99bfd8dbebc34d80ac2c2e5c7ba846f9": {
          "model_module": "@jupyter-widgets/controls",
          "model_module_version": "1.5.0",
          "model_name": "HTMLModel",
          "state": {
            "_dom_classes": [],
            "_model_module": "@jupyter-widgets/controls",
            "_model_module_version": "1.5.0",
            "_model_name": "HTMLModel",
            "_view_count": null,
            "_view_module": "@jupyter-widgets/controls",
            "_view_module_version": "1.5.0",
            "_view_name": "HTMLView",
            "description": "",
            "description_tooltip": null,
            "layout": "IPY_MODEL_9b390488ab9c482cbdf515f21de0e570",
            "placeholder": "​",
            "style": "IPY_MODEL_1f5fb1829a3c48b4aabec7914883e4ff",
            "value": "Generating splits...: 100%"
          }
        },
        "9b390488ab9c482cbdf515f21de0e570": {
          "model_module": "@jupyter-widgets/base",
          "model_module_version": "1.2.0",
          "model_name": "LayoutModel",
          "state": {
            "_model_module": "@jupyter-widgets/base",
            "_model_module_version": "1.2.0",
            "_model_name": "LayoutModel",
            "_view_count": null,
            "_view_module": "@jupyter-widgets/base",
            "_view_module_version": "1.2.0",
            "_view_name": "LayoutView",
            "align_content": null,
            "align_items": null,
            "align_self": null,
            "border": null,
            "bottom": null,
            "display": null,
            "flex": null,
            "flex_flow": null,
            "grid_area": null,
            "grid_auto_columns": null,
            "grid_auto_flow": null,
            "grid_auto_rows": null,
            "grid_column": null,
            "grid_gap": null,
            "grid_row": null,
            "grid_template_areas": null,
            "grid_template_columns": null,
            "grid_template_rows": null,
            "height": null,
            "justify_content": null,
            "justify_items": null,
            "left": null,
            "margin": null,
            "max_height": null,
            "max_width": null,
            "min_height": null,
            "min_width": null,
            "object_fit": null,
            "object_position": null,
            "order": null,
            "overflow": null,
            "overflow_x": null,
            "overflow_y": null,
            "padding": null,
            "right": null,
            "top": null,
            "visibility": null,
            "width": null
          }
        },
        "9c6f90abfdd4477c9d9faddc67a2ec64": {
          "model_module": "@jupyter-widgets/controls",
          "model_module_version": "1.5.0",
          "model_name": "HTMLModel",
          "state": {
            "_dom_classes": [],
            "_model_module": "@jupyter-widgets/controls",
            "_model_module_version": "1.5.0",
            "_model_name": "HTMLModel",
            "_view_count": null,
            "_view_module": "@jupyter-widgets/controls",
            "_view_module_version": "1.5.0",
            "_view_name": "HTMLView",
            "description": "",
            "description_tooltip": null,
            "layout": "IPY_MODEL_2161515aca444d318423d2d4d1221238",
            "placeholder": "​",
            "style": "IPY_MODEL_099d5ed80e5e4917a9f4ec8840194e6b",
            "value": "Dl Size...: 100%"
          }
        },
        "9da2fa0a70624f049040c35d0348b9bc": {
          "model_module": "@jupyter-widgets/controls",
          "model_module_version": "1.5.0",
          "model_name": "HTMLModel",
          "state": {
            "_dom_classes": [],
            "_model_module": "@jupyter-widgets/controls",
            "_model_module_version": "1.5.0",
            "_model_name": "HTMLModel",
            "_view_count": null,
            "_view_module": "@jupyter-widgets/controls",
            "_view_module_version": "1.5.0",
            "_view_name": "HTMLView",
            "description": "",
            "description_tooltip": null,
            "layout": "IPY_MODEL_b93e79db1761471986b14e1c8b843471",
            "placeholder": "​",
            "style": "IPY_MODEL_4c9896fb64344ddbb4d5f5cc2e69daca",
            "value": " 15589/26032 [00:00&lt;00:00, 155873.80 examples/s]"
          }
        },
        "a171c65628be47fdb1ccb8fdd45457cc": {
          "model_module": "@jupyter-widgets/controls",
          "model_module_version": "1.5.0",
          "model_name": "FloatProgressModel",
          "state": {
            "_dom_classes": [],
            "_model_module": "@jupyter-widgets/controls",
            "_model_module_version": "1.5.0",
            "_model_name": "FloatProgressModel",
            "_view_count": null,
            "_view_module": "@jupyter-widgets/controls",
            "_view_module_version": "1.5.0",
            "_view_name": "ProgressView",
            "bar_style": "success",
            "description": "",
            "description_tooltip": null,
            "layout": "IPY_MODEL_54874e14f9ff4bec8497d0754db660f9",
            "max": 1,
            "min": 0,
            "orientation": "horizontal",
            "style": "IPY_MODEL_52f36aa9590240f2a901aa14765d1db4",
            "value": 1
          }
        },
        "a2dff39819de492b912fc6ef258f5a15": {
          "model_module": "@jupyter-widgets/controls",
          "model_module_version": "1.5.0",
          "model_name": "HTMLModel",
          "state": {
            "_dom_classes": [],
            "_model_module": "@jupyter-widgets/controls",
            "_model_module_version": "1.5.0",
            "_model_name": "HTMLModel",
            "_view_count": null,
            "_view_module": "@jupyter-widgets/controls",
            "_view_module_version": "1.5.0",
            "_view_name": "HTMLView",
            "description": "",
            "description_tooltip": null,
            "layout": "IPY_MODEL_dc1bd4e50d73442aa4355aba9c3580e8",
            "placeholder": "​",
            "style": "IPY_MODEL_632a1b03c47247448f3794484237e679",
            "value": "Generating extra examples...: 100%"
          }
        },
        "a31d2a17789c46fd842dd501fd489360": {
          "model_module": "@jupyter-widgets/base",
          "model_module_version": "1.2.0",
          "model_name": "LayoutModel",
          "state": {
            "_model_module": "@jupyter-widgets/base",
            "_model_module_version": "1.2.0",
            "_model_name": "LayoutModel",
            "_view_count": null,
            "_view_module": "@jupyter-widgets/base",
            "_view_module_version": "1.2.0",
            "_view_name": "LayoutView",
            "align_content": null,
            "align_items": null,
            "align_self": null,
            "border": null,
            "bottom": null,
            "display": null,
            "flex": null,
            "flex_flow": null,
            "grid_area": null,
            "grid_auto_columns": null,
            "grid_auto_flow": null,
            "grid_auto_rows": null,
            "grid_column": null,
            "grid_gap": null,
            "grid_row": null,
            "grid_template_areas": null,
            "grid_template_columns": null,
            "grid_template_rows": null,
            "height": null,
            "justify_content": null,
            "justify_items": null,
            "left": null,
            "margin": null,
            "max_height": null,
            "max_width": null,
            "min_height": null,
            "min_width": null,
            "object_fit": null,
            "object_position": null,
            "order": null,
            "overflow": null,
            "overflow_x": null,
            "overflow_y": null,
            "padding": null,
            "right": null,
            "top": null,
            "visibility": null,
            "width": null
          }
        },
        "a5ec4746d4ad438bb9a59d61aef23615": {
          "model_module": "@jupyter-widgets/base",
          "model_module_version": "1.2.0",
          "model_name": "LayoutModel",
          "state": {
            "_model_module": "@jupyter-widgets/base",
            "_model_module_version": "1.2.0",
            "_model_name": "LayoutModel",
            "_view_count": null,
            "_view_module": "@jupyter-widgets/base",
            "_view_module_version": "1.2.0",
            "_view_name": "LayoutView",
            "align_content": null,
            "align_items": null,
            "align_self": null,
            "border": null,
            "bottom": null,
            "display": null,
            "flex": null,
            "flex_flow": null,
            "grid_area": null,
            "grid_auto_columns": null,
            "grid_auto_flow": null,
            "grid_auto_rows": null,
            "grid_column": null,
            "grid_gap": null,
            "grid_row": null,
            "grid_template_areas": null,
            "grid_template_columns": null,
            "grid_template_rows": null,
            "height": null,
            "justify_content": null,
            "justify_items": null,
            "left": null,
            "margin": null,
            "max_height": null,
            "max_width": null,
            "min_height": null,
            "min_width": null,
            "object_fit": null,
            "object_position": null,
            "order": null,
            "overflow": null,
            "overflow_x": null,
            "overflow_y": null,
            "padding": null,
            "right": null,
            "top": null,
            "visibility": null,
            "width": null
          }
        },
        "a61f49b7489843749a12d6778aa55176": {
          "model_module": "@jupyter-widgets/controls",
          "model_module_version": "1.5.0",
          "model_name": "HTMLModel",
          "state": {
            "_dom_classes": [],
            "_model_module": "@jupyter-widgets/controls",
            "_model_module_version": "1.5.0",
            "_model_name": "HTMLModel",
            "_view_count": null,
            "_view_module": "@jupyter-widgets/controls",
            "_view_module_version": "1.5.0",
            "_view_name": "HTMLView",
            "description": "",
            "description_tooltip": null,
            "layout": "IPY_MODEL_3fec909a0dc7463396356ac56c012016",
            "placeholder": "​",
            "style": "IPY_MODEL_81a94aae937440c089021cb7bf0e7306",
            "value": " 3/3 [09:13&lt;00:00, 234.46s/ splits]"
          }
        },
        "a62a2ed729454051ae67cf258567960b": {
          "model_module": "@jupyter-widgets/base",
          "model_module_version": "1.2.0",
          "model_name": "LayoutModel",
          "state": {
            "_model_module": "@jupyter-widgets/base",
            "_model_module_version": "1.2.0",
            "_model_name": "LayoutModel",
            "_view_count": null,
            "_view_module": "@jupyter-widgets/base",
            "_view_module_version": "1.2.0",
            "_view_name": "LayoutView",
            "align_content": null,
            "align_items": null,
            "align_self": null,
            "border": null,
            "bottom": null,
            "display": null,
            "flex": null,
            "flex_flow": null,
            "grid_area": null,
            "grid_auto_columns": null,
            "grid_auto_flow": null,
            "grid_auto_rows": null,
            "grid_column": null,
            "grid_gap": null,
            "grid_row": null,
            "grid_template_areas": null,
            "grid_template_columns": null,
            "grid_template_rows": null,
            "height": null,
            "justify_content": null,
            "justify_items": null,
            "left": null,
            "margin": null,
            "max_height": null,
            "max_width": null,
            "min_height": null,
            "min_width": null,
            "object_fit": null,
            "object_position": null,
            "order": null,
            "overflow": null,
            "overflow_x": null,
            "overflow_y": null,
            "padding": null,
            "right": null,
            "top": null,
            "visibility": null,
            "width": null
          }
        },
        "b27328308ecb41379ade5f445f122542": {
          "model_module": "@jupyter-widgets/base",
          "model_module_version": "1.2.0",
          "model_name": "LayoutModel",
          "state": {
            "_model_module": "@jupyter-widgets/base",
            "_model_module_version": "1.2.0",
            "_model_name": "LayoutModel",
            "_view_count": null,
            "_view_module": "@jupyter-widgets/base",
            "_view_module_version": "1.2.0",
            "_view_name": "LayoutView",
            "align_content": null,
            "align_items": null,
            "align_self": null,
            "border": null,
            "bottom": null,
            "display": null,
            "flex": null,
            "flex_flow": null,
            "grid_area": null,
            "grid_auto_columns": null,
            "grid_auto_flow": null,
            "grid_auto_rows": null,
            "grid_column": null,
            "grid_gap": null,
            "grid_row": null,
            "grid_template_areas": null,
            "grid_template_columns": null,
            "grid_template_rows": null,
            "height": null,
            "justify_content": null,
            "justify_items": null,
            "left": null,
            "margin": null,
            "max_height": null,
            "max_width": null,
            "min_height": null,
            "min_width": null,
            "object_fit": null,
            "object_position": null,
            "order": null,
            "overflow": null,
            "overflow_x": null,
            "overflow_y": null,
            "padding": null,
            "right": null,
            "top": null,
            "visibility": null,
            "width": null
          }
        },
        "b2ebe835ad804f799179d376fa20668e": {
          "model_module": "@jupyter-widgets/controls",
          "model_module_version": "1.5.0",
          "model_name": "DescriptionStyleModel",
          "state": {
            "_model_module": "@jupyter-widgets/controls",
            "_model_module_version": "1.5.0",
            "_model_name": "DescriptionStyleModel",
            "_view_count": null,
            "_view_module": "@jupyter-widgets/base",
            "_view_module_version": "1.2.0",
            "_view_name": "StyleView",
            "description_width": ""
          }
        },
        "b93e79db1761471986b14e1c8b843471": {
          "model_module": "@jupyter-widgets/base",
          "model_module_version": "1.2.0",
          "model_name": "LayoutModel",
          "state": {
            "_model_module": "@jupyter-widgets/base",
            "_model_module_version": "1.2.0",
            "_model_name": "LayoutModel",
            "_view_count": null,
            "_view_module": "@jupyter-widgets/base",
            "_view_module_version": "1.2.0",
            "_view_name": "LayoutView",
            "align_content": null,
            "align_items": null,
            "align_self": null,
            "border": null,
            "bottom": null,
            "display": null,
            "flex": null,
            "flex_flow": null,
            "grid_area": null,
            "grid_auto_columns": null,
            "grid_auto_flow": null,
            "grid_auto_rows": null,
            "grid_column": null,
            "grid_gap": null,
            "grid_row": null,
            "grid_template_areas": null,
            "grid_template_columns": null,
            "grid_template_rows": null,
            "height": null,
            "justify_content": null,
            "justify_items": null,
            "left": null,
            "margin": null,
            "max_height": null,
            "max_width": null,
            "min_height": null,
            "min_width": null,
            "object_fit": null,
            "object_position": null,
            "order": null,
            "overflow": null,
            "overflow_x": null,
            "overflow_y": null,
            "padding": null,
            "right": null,
            "top": null,
            "visibility": null,
            "width": null
          }
        },
        "bc20eeef176b45cf9747ee35f73b4a84": {
          "model_module": "@jupyter-widgets/controls",
          "model_module_version": "1.5.0",
          "model_name": "HBoxModel",
          "state": {
            "_dom_classes": [],
            "_model_module": "@jupyter-widgets/controls",
            "_model_module_version": "1.5.0",
            "_model_name": "HBoxModel",
            "_view_count": null,
            "_view_module": "@jupyter-widgets/controls",
            "_view_module_version": "1.5.0",
            "_view_name": "HBoxView",
            "box_style": "",
            "children": [
              "IPY_MODEL_6f166fa52a2d4b81b89f6d89eeeb2e2f",
              "IPY_MODEL_0b2502a164b94670a42f442769d435a9",
              "IPY_MODEL_51cc61034be34863a218930dc37e880f"
            ],
            "layout": "IPY_MODEL_c169a90f6abe4602a462578a189c5f4b"
          }
        },
        "c169a90f6abe4602a462578a189c5f4b": {
          "model_module": "@jupyter-widgets/base",
          "model_module_version": "1.2.0",
          "model_name": "LayoutModel",
          "state": {
            "_model_module": "@jupyter-widgets/base",
            "_model_module_version": "1.2.0",
            "_model_name": "LayoutModel",
            "_view_count": null,
            "_view_module": "@jupyter-widgets/base",
            "_view_module_version": "1.2.0",
            "_view_name": "LayoutView",
            "align_content": null,
            "align_items": null,
            "align_self": null,
            "border": null,
            "bottom": null,
            "display": null,
            "flex": null,
            "flex_flow": null,
            "grid_area": null,
            "grid_auto_columns": null,
            "grid_auto_flow": null,
            "grid_auto_rows": null,
            "grid_column": null,
            "grid_gap": null,
            "grid_row": null,
            "grid_template_areas": null,
            "grid_template_columns": null,
            "grid_template_rows": null,
            "height": null,
            "justify_content": null,
            "justify_items": null,
            "left": null,
            "margin": null,
            "max_height": null,
            "max_width": null,
            "min_height": null,
            "min_width": null,
            "object_fit": null,
            "object_position": null,
            "order": null,
            "overflow": null,
            "overflow_x": null,
            "overflow_y": null,
            "padding": null,
            "right": null,
            "top": null,
            "visibility": "hidden",
            "width": null
          }
        },
        "caac872db27643898ac7c7d98faa26ee": {
          "model_module": "@jupyter-widgets/base",
          "model_module_version": "1.2.0",
          "model_name": "LayoutModel",
          "state": {
            "_model_module": "@jupyter-widgets/base",
            "_model_module_version": "1.2.0",
            "_model_name": "LayoutModel",
            "_view_count": null,
            "_view_module": "@jupyter-widgets/base",
            "_view_module_version": "1.2.0",
            "_view_name": "LayoutView",
            "align_content": null,
            "align_items": null,
            "align_self": null,
            "border": null,
            "bottom": null,
            "display": null,
            "flex": null,
            "flex_flow": null,
            "grid_area": null,
            "grid_auto_columns": null,
            "grid_auto_flow": null,
            "grid_auto_rows": null,
            "grid_column": null,
            "grid_gap": null,
            "grid_row": null,
            "grid_template_areas": null,
            "grid_template_columns": null,
            "grid_template_rows": null,
            "height": null,
            "justify_content": null,
            "justify_items": null,
            "left": null,
            "margin": null,
            "max_height": null,
            "max_width": null,
            "min_height": null,
            "min_width": null,
            "object_fit": null,
            "object_position": null,
            "order": null,
            "overflow": null,
            "overflow_x": null,
            "overflow_y": null,
            "padding": null,
            "right": null,
            "top": null,
            "visibility": null,
            "width": null
          }
        },
        "cb97a7a497774652926350f37cf11c7e": {
          "model_module": "@jupyter-widgets/base",
          "model_module_version": "1.2.0",
          "model_name": "LayoutModel",
          "state": {
            "_model_module": "@jupyter-widgets/base",
            "_model_module_version": "1.2.0",
            "_model_name": "LayoutModel",
            "_view_count": null,
            "_view_module": "@jupyter-widgets/base",
            "_view_module_version": "1.2.0",
            "_view_name": "LayoutView",
            "align_content": null,
            "align_items": null,
            "align_self": null,
            "border": null,
            "bottom": null,
            "display": null,
            "flex": null,
            "flex_flow": null,
            "grid_area": null,
            "grid_auto_columns": null,
            "grid_auto_flow": null,
            "grid_auto_rows": null,
            "grid_column": null,
            "grid_gap": null,
            "grid_row": null,
            "grid_template_areas": null,
            "grid_template_columns": null,
            "grid_template_rows": null,
            "height": null,
            "justify_content": null,
            "justify_items": null,
            "left": null,
            "margin": null,
            "max_height": null,
            "max_width": null,
            "min_height": null,
            "min_width": null,
            "object_fit": null,
            "object_position": null,
            "order": null,
            "overflow": null,
            "overflow_x": null,
            "overflow_y": null,
            "padding": null,
            "right": null,
            "top": null,
            "visibility": null,
            "width": null
          }
        },
        "ccf126d4612f4f85888b4c0b6e4a0993": {
          "model_module": "@jupyter-widgets/controls",
          "model_module_version": "1.5.0",
          "model_name": "HTMLModel",
          "state": {
            "_dom_classes": [],
            "_model_module": "@jupyter-widgets/controls",
            "_model_module_version": "1.5.0",
            "_model_name": "HTMLModel",
            "_view_count": null,
            "_view_module": "@jupyter-widgets/controls",
            "_view_module_version": "1.5.0",
            "_view_name": "HTMLView",
            "description": "",
            "description_tooltip": null,
            "layout": "IPY_MODEL_698ecdd35e524d358ad11e0a95f2a9ea",
            "placeholder": "​",
            "style": "IPY_MODEL_f08cbcc8e0614c8b98f8cda6186b479b",
            "value": "Shuffling /root/tensorflow_datasets/svhn_cropped/3.0.0.incomplete2YGHJT/svhn_cropped-train.tfrecord*...:  98%"
          }
        },
        "cdd9ca7c55fe42d9929d942b17752075": {
          "model_module": "@jupyter-widgets/controls",
          "model_module_version": "1.5.0",
          "model_name": "HTMLModel",
          "state": {
            "_dom_classes": [],
            "_model_module": "@jupyter-widgets/controls",
            "_model_module_version": "1.5.0",
            "_model_name": "HTMLModel",
            "_view_count": null,
            "_view_module": "@jupyter-widgets/controls",
            "_view_module_version": "1.5.0",
            "_view_name": "HTMLView",
            "description": "",
            "description_tooltip": null,
            "layout": "IPY_MODEL_b27328308ecb41379ade5f445f122542",
            "placeholder": "​",
            "style": "IPY_MODEL_5849a8269be943fcaf77b25abcfaabbb",
            "value": " 530833/531131 [07:33&lt;00:00, 1230.45 examples/s]"
          }
        },
        "d341fa3ca44746ed81d539afd5e0a55d": {
          "model_module": "@jupyter-widgets/base",
          "model_module_version": "1.2.0",
          "model_name": "LayoutModel",
          "state": {
            "_model_module": "@jupyter-widgets/base",
            "_model_module_version": "1.2.0",
            "_model_name": "LayoutModel",
            "_view_count": null,
            "_view_module": "@jupyter-widgets/base",
            "_view_module_version": "1.2.0",
            "_view_name": "LayoutView",
            "align_content": null,
            "align_items": null,
            "align_self": null,
            "border": null,
            "bottom": null,
            "display": null,
            "flex": null,
            "flex_flow": null,
            "grid_area": null,
            "grid_auto_columns": null,
            "grid_auto_flow": null,
            "grid_auto_rows": null,
            "grid_column": null,
            "grid_gap": null,
            "grid_row": null,
            "grid_template_areas": null,
            "grid_template_columns": null,
            "grid_template_rows": null,
            "height": null,
            "justify_content": null,
            "justify_items": null,
            "left": null,
            "margin": null,
            "max_height": null,
            "max_width": null,
            "min_height": null,
            "min_width": null,
            "object_fit": null,
            "object_position": null,
            "order": null,
            "overflow": null,
            "overflow_x": null,
            "overflow_y": null,
            "padding": null,
            "right": null,
            "top": null,
            "visibility": null,
            "width": null
          }
        },
        "d83cf4acf1a34e1d8ce2e233a768b85a": {
          "model_module": "@jupyter-widgets/controls",
          "model_module_version": "1.5.0",
          "model_name": "DescriptionStyleModel",
          "state": {
            "_model_module": "@jupyter-widgets/controls",
            "_model_module_version": "1.5.0",
            "_model_name": "DescriptionStyleModel",
            "_view_count": null,
            "_view_module": "@jupyter-widgets/base",
            "_view_module_version": "1.2.0",
            "_view_name": "StyleView",
            "description_width": ""
          }
        },
        "dc1bd4e50d73442aa4355aba9c3580e8": {
          "model_module": "@jupyter-widgets/base",
          "model_module_version": "1.2.0",
          "model_name": "LayoutModel",
          "state": {
            "_model_module": "@jupyter-widgets/base",
            "_model_module_version": "1.2.0",
            "_model_name": "LayoutModel",
            "_view_count": null,
            "_view_module": "@jupyter-widgets/base",
            "_view_module_version": "1.2.0",
            "_view_name": "LayoutView",
            "align_content": null,
            "align_items": null,
            "align_self": null,
            "border": null,
            "bottom": null,
            "display": null,
            "flex": null,
            "flex_flow": null,
            "grid_area": null,
            "grid_auto_columns": null,
            "grid_auto_flow": null,
            "grid_auto_rows": null,
            "grid_column": null,
            "grid_gap": null,
            "grid_row": null,
            "grid_template_areas": null,
            "grid_template_columns": null,
            "grid_template_rows": null,
            "height": null,
            "justify_content": null,
            "justify_items": null,
            "left": null,
            "margin": null,
            "max_height": null,
            "max_width": null,
            "min_height": null,
            "min_width": null,
            "object_fit": null,
            "object_position": null,
            "order": null,
            "overflow": null,
            "overflow_x": null,
            "overflow_y": null,
            "padding": null,
            "right": null,
            "top": null,
            "visibility": null,
            "width": null
          }
        },
        "e2416bf6826a47469a17dabc0e968487": {
          "model_module": "@jupyter-widgets/base",
          "model_module_version": "1.2.0",
          "model_name": "LayoutModel",
          "state": {
            "_model_module": "@jupyter-widgets/base",
            "_model_module_version": "1.2.0",
            "_model_name": "LayoutModel",
            "_view_count": null,
            "_view_module": "@jupyter-widgets/base",
            "_view_module_version": "1.2.0",
            "_view_name": "LayoutView",
            "align_content": null,
            "align_items": null,
            "align_self": null,
            "border": null,
            "bottom": null,
            "display": null,
            "flex": null,
            "flex_flow": null,
            "grid_area": null,
            "grid_auto_columns": null,
            "grid_auto_flow": null,
            "grid_auto_rows": null,
            "grid_column": null,
            "grid_gap": null,
            "grid_row": null,
            "grid_template_areas": null,
            "grid_template_columns": null,
            "grid_template_rows": null,
            "height": null,
            "justify_content": null,
            "justify_items": null,
            "left": null,
            "margin": null,
            "max_height": null,
            "max_width": null,
            "min_height": null,
            "min_width": null,
            "object_fit": null,
            "object_position": null,
            "order": null,
            "overflow": null,
            "overflow_x": null,
            "overflow_y": null,
            "padding": null,
            "right": null,
            "top": null,
            "visibility": null,
            "width": null
          }
        },
        "e39582e8b93c43bbb0009e6b33a88dad": {
          "model_module": "@jupyter-widgets/controls",
          "model_module_version": "1.5.0",
          "model_name": "HTMLModel",
          "state": {
            "_dom_classes": [],
            "_model_module": "@jupyter-widgets/controls",
            "_model_module_version": "1.5.0",
            "_model_name": "HTMLModel",
            "_view_count": null,
            "_view_module": "@jupyter-widgets/controls",
            "_view_module_version": "1.5.0",
            "_view_name": "HTMLView",
            "description": "",
            "description_tooltip": null,
            "layout": "IPY_MODEL_68d493d07b75448d9c0b68dac6cb837e",
            "placeholder": "​",
            "style": "IPY_MODEL_b2ebe835ad804f799179d376fa20668e",
            "value": " 71884/73257 [00:00&lt;00:00, 189242.01 examples/s]"
          }
        },
        "eeb6a565179c4e31970aa1073cdd944c": {
          "model_module": "@jupyter-widgets/base",
          "model_module_version": "1.2.0",
          "model_name": "LayoutModel",
          "state": {
            "_model_module": "@jupyter-widgets/base",
            "_model_module_version": "1.2.0",
            "_model_name": "LayoutModel",
            "_view_count": null,
            "_view_module": "@jupyter-widgets/base",
            "_view_module_version": "1.2.0",
            "_view_name": "LayoutView",
            "align_content": null,
            "align_items": null,
            "align_self": null,
            "border": null,
            "bottom": null,
            "display": null,
            "flex": null,
            "flex_flow": null,
            "grid_area": null,
            "grid_auto_columns": null,
            "grid_auto_flow": null,
            "grid_auto_rows": null,
            "grid_column": null,
            "grid_gap": null,
            "grid_row": null,
            "grid_template_areas": null,
            "grid_template_columns": null,
            "grid_template_rows": null,
            "height": null,
            "justify_content": null,
            "justify_items": null,
            "left": null,
            "margin": null,
            "max_height": null,
            "max_width": null,
            "min_height": null,
            "min_width": null,
            "object_fit": null,
            "object_position": null,
            "order": null,
            "overflow": null,
            "overflow_x": null,
            "overflow_y": null,
            "padding": null,
            "right": null,
            "top": null,
            "visibility": null,
            "width": null
          }
        },
        "ef39fea841514d3cad1aa9b146492636": {
          "model_module": "@jupyter-widgets/controls",
          "model_module_version": "1.5.0",
          "model_name": "HTMLModel",
          "state": {
            "_dom_classes": [],
            "_model_module": "@jupyter-widgets/controls",
            "_model_module_version": "1.5.0",
            "_model_name": "HTMLModel",
            "_view_count": null,
            "_view_module": "@jupyter-widgets/controls",
            "_view_module_version": "1.5.0",
            "_view_name": "HTMLView",
            "description": "",
            "description_tooltip": null,
            "layout": "IPY_MODEL_f8c6f63834334fa183d330f562816a06",
            "placeholder": "​",
            "style": "IPY_MODEL_3427952627d14f169fd4b5b722d12613",
            "value": " 1501/1501 [02:35&lt;00:00, 18.80 MiB/s]"
          }
        },
        "f03887d9cbbb4f92a4c1b458c0598f46": {
          "model_module": "@jupyter-widgets/controls",
          "model_module_version": "1.5.0",
          "model_name": "FloatProgressModel",
          "state": {
            "_dom_classes": [],
            "_model_module": "@jupyter-widgets/controls",
            "_model_module_version": "1.5.0",
            "_model_name": "FloatProgressModel",
            "_view_count": null,
            "_view_module": "@jupyter-widgets/controls",
            "_view_module_version": "1.5.0",
            "_view_name": "ProgressView",
            "bar_style": "",
            "description": "",
            "description_tooltip": null,
            "layout": "IPY_MODEL_fced356e5019462f87288ea6827fdde5",
            "max": 26032,
            "min": 0,
            "orientation": "horizontal",
            "style": "IPY_MODEL_577efab05fde4547b59e4d2c0696a454",
            "value": 26032
          }
        },
        "f07965ebe219455f816c40c3e132c9bf": {
          "model_module": "@jupyter-widgets/base",
          "model_module_version": "1.2.0",
          "model_name": "LayoutModel",
          "state": {
            "_model_module": "@jupyter-widgets/base",
            "_model_module_version": "1.2.0",
            "_model_name": "LayoutModel",
            "_view_count": null,
            "_view_module": "@jupyter-widgets/base",
            "_view_module_version": "1.2.0",
            "_view_name": "LayoutView",
            "align_content": null,
            "align_items": null,
            "align_self": null,
            "border": null,
            "bottom": null,
            "display": null,
            "flex": null,
            "flex_flow": null,
            "grid_area": null,
            "grid_auto_columns": null,
            "grid_auto_flow": null,
            "grid_auto_rows": null,
            "grid_column": null,
            "grid_gap": null,
            "grid_row": null,
            "grid_template_areas": null,
            "grid_template_columns": null,
            "grid_template_rows": null,
            "height": null,
            "justify_content": null,
            "justify_items": null,
            "left": null,
            "margin": null,
            "max_height": null,
            "max_width": null,
            "min_height": null,
            "min_width": null,
            "object_fit": null,
            "object_position": null,
            "order": null,
            "overflow": null,
            "overflow_x": null,
            "overflow_y": null,
            "padding": null,
            "right": null,
            "top": null,
            "visibility": "hidden",
            "width": null
          }
        },
        "f08cbcc8e0614c8b98f8cda6186b479b": {
          "model_module": "@jupyter-widgets/controls",
          "model_module_version": "1.5.0",
          "model_name": "DescriptionStyleModel",
          "state": {
            "_model_module": "@jupyter-widgets/controls",
            "_model_module_version": "1.5.0",
            "_model_name": "DescriptionStyleModel",
            "_view_count": null,
            "_view_module": "@jupyter-widgets/base",
            "_view_module_version": "1.2.0",
            "_view_name": "StyleView",
            "description_width": ""
          }
        },
        "f8c6f63834334fa183d330f562816a06": {
          "model_module": "@jupyter-widgets/base",
          "model_module_version": "1.2.0",
          "model_name": "LayoutModel",
          "state": {
            "_model_module": "@jupyter-widgets/base",
            "_model_module_version": "1.2.0",
            "_model_name": "LayoutModel",
            "_view_count": null,
            "_view_module": "@jupyter-widgets/base",
            "_view_module_version": "1.2.0",
            "_view_name": "LayoutView",
            "align_content": null,
            "align_items": null,
            "align_self": null,
            "border": null,
            "bottom": null,
            "display": null,
            "flex": null,
            "flex_flow": null,
            "grid_area": null,
            "grid_auto_columns": null,
            "grid_auto_flow": null,
            "grid_auto_rows": null,
            "grid_column": null,
            "grid_gap": null,
            "grid_row": null,
            "grid_template_areas": null,
            "grid_template_columns": null,
            "grid_template_rows": null,
            "height": null,
            "justify_content": null,
            "justify_items": null,
            "left": null,
            "margin": null,
            "max_height": null,
            "max_width": null,
            "min_height": null,
            "min_width": null,
            "object_fit": null,
            "object_position": null,
            "order": null,
            "overflow": null,
            "overflow_x": null,
            "overflow_y": null,
            "padding": null,
            "right": null,
            "top": null,
            "visibility": null,
            "width": null
          }
        },
        "f927a044003e439dab02f5c64963b230": {
          "model_module": "@jupyter-widgets/controls",
          "model_module_version": "1.5.0",
          "model_name": "DescriptionStyleModel",
          "state": {
            "_model_module": "@jupyter-widgets/controls",
            "_model_module_version": "1.5.0",
            "_model_name": "DescriptionStyleModel",
            "_view_count": null,
            "_view_module": "@jupyter-widgets/base",
            "_view_module_version": "1.2.0",
            "_view_name": "StyleView",
            "description_width": ""
          }
        },
        "fced356e5019462f87288ea6827fdde5": {
          "model_module": "@jupyter-widgets/base",
          "model_module_version": "1.2.0",
          "model_name": "LayoutModel",
          "state": {
            "_model_module": "@jupyter-widgets/base",
            "_model_module_version": "1.2.0",
            "_model_name": "LayoutModel",
            "_view_count": null,
            "_view_module": "@jupyter-widgets/base",
            "_view_module_version": "1.2.0",
            "_view_name": "LayoutView",
            "align_content": null,
            "align_items": null,
            "align_self": null,
            "border": null,
            "bottom": null,
            "display": null,
            "flex": null,
            "flex_flow": null,
            "grid_area": null,
            "grid_auto_columns": null,
            "grid_auto_flow": null,
            "grid_auto_rows": null,
            "grid_column": null,
            "grid_gap": null,
            "grid_row": null,
            "grid_template_areas": null,
            "grid_template_columns": null,
            "grid_template_rows": null,
            "height": null,
            "justify_content": null,
            "justify_items": null,
            "left": null,
            "margin": null,
            "max_height": null,
            "max_width": null,
            "min_height": null,
            "min_width": null,
            "object_fit": null,
            "object_position": null,
            "order": null,
            "overflow": null,
            "overflow_x": null,
            "overflow_y": null,
            "padding": null,
            "right": null,
            "top": null,
            "visibility": null,
            "width": null
          }
        },
        "fddd68964b2f4d7f8dc7651fab56de5d": {
          "model_module": "@jupyter-widgets/base",
          "model_module_version": "1.2.0",
          "model_name": "LayoutModel",
          "state": {
            "_model_module": "@jupyter-widgets/base",
            "_model_module_version": "1.2.0",
            "_model_name": "LayoutModel",
            "_view_count": null,
            "_view_module": "@jupyter-widgets/base",
            "_view_module_version": "1.2.0",
            "_view_name": "LayoutView",
            "align_content": null,
            "align_items": null,
            "align_self": null,
            "border": null,
            "bottom": null,
            "display": null,
            "flex": null,
            "flex_flow": null,
            "grid_area": null,
            "grid_auto_columns": null,
            "grid_auto_flow": null,
            "grid_auto_rows": null,
            "grid_column": null,
            "grid_gap": null,
            "grid_row": null,
            "grid_template_areas": null,
            "grid_template_columns": null,
            "grid_template_rows": null,
            "height": null,
            "justify_content": null,
            "justify_items": null,
            "left": null,
            "margin": null,
            "max_height": null,
            "max_width": null,
            "min_height": null,
            "min_width": null,
            "object_fit": null,
            "object_position": null,
            "order": null,
            "overflow": null,
            "overflow_x": null,
            "overflow_y": null,
            "padding": null,
            "right": null,
            "top": null,
            "visibility": "hidden",
            "width": null
          }
        }
      }
    }
  },
  "nbformat": 4,
  "nbformat_minor": 0
}
